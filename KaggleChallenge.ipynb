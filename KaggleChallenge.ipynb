{
 "cells": [
  {
   "cell_type": "code",
   "execution_count": 1,
   "id": "40545978-9bf0-4043-b6f3-6331598327d0",
   "metadata": {},
   "outputs": [],
   "source": [
    "#import all the necessary libraries\n",
    "import pandas as pd \n",
    "import numpy as np \n",
    "import matplotlib.pyplot as plt\n",
    "import seaborn as sns\n",
    "from xgboost import XGBRegressor \n",
    "from sklearn.ensemble import RandomForestRegressor\n",
    "from sklearn.model_selection import train_test_split, cross_val_predict, cross_val_score,GridSearchCV,KFold\n",
    "from sklearn.metrics import mean_squared_error\n",
    "from sklearn.preprocessing import StandardScaler\n",
    "from sklearn.decomposition import PCA\n",
    "import warnings\n",
    "warnings.filterwarnings('ignore') "
   ]
  },
  {
   "cell_type": "code",
   "execution_count": 2,
   "id": "6417b063-d8c1-4d86-8c4b-e4c6e1de9c27",
   "metadata": {},
   "outputs": [],
   "source": [
    "train= pd.read_csv('train.csv')\n",
    "test= pd.read_csv('test.csv')\n",
    "submission= pd.read_csv('sample_submission.csv')"
   ]
  },
  {
   "cell_type": "code",
   "execution_count": 3,
   "id": "32ed4ed6-59d0-4bb2-8f16-3ba182a20cf7",
   "metadata": {},
   "outputs": [
    {
     "data": {
      "text/html": [
       "<div>\n",
       "<style scoped>\n",
       "    .dataframe tbody tr th:only-of-type {\n",
       "        vertical-align: middle;\n",
       "    }\n",
       "\n",
       "    .dataframe tbody tr th {\n",
       "        vertical-align: top;\n",
       "    }\n",
       "\n",
       "    .dataframe thead th {\n",
       "        text-align: right;\n",
       "    }\n",
       "</style>\n",
       "<table border=\"1\" class=\"dataframe\">\n",
       "  <thead>\n",
       "    <tr style=\"text-align: right;\">\n",
       "      <th></th>\n",
       "      <th>id</th>\n",
       "      <th>brand</th>\n",
       "      <th>model</th>\n",
       "      <th>model_year</th>\n",
       "      <th>milage</th>\n",
       "      <th>fuel_type</th>\n",
       "      <th>engine</th>\n",
       "      <th>transmission</th>\n",
       "      <th>ext_col</th>\n",
       "      <th>int_col</th>\n",
       "      <th>accident</th>\n",
       "      <th>clean_title</th>\n",
       "      <th>price</th>\n",
       "    </tr>\n",
       "  </thead>\n",
       "  <tbody>\n",
       "    <tr>\n",
       "      <th>0</th>\n",
       "      <td>0</td>\n",
       "      <td>Ford</td>\n",
       "      <td>F-150 Lariat</td>\n",
       "      <td>2018</td>\n",
       "      <td>74349</td>\n",
       "      <td>Gasoline</td>\n",
       "      <td>375.0HP 3.5L V6 Cylinder Engine Gasoline Fuel</td>\n",
       "      <td>10-Speed A/T</td>\n",
       "      <td>Blue</td>\n",
       "      <td>Gray</td>\n",
       "      <td>None reported</td>\n",
       "      <td>Yes</td>\n",
       "      <td>11000</td>\n",
       "    </tr>\n",
       "    <tr>\n",
       "      <th>1</th>\n",
       "      <td>1</td>\n",
       "      <td>BMW</td>\n",
       "      <td>335 i</td>\n",
       "      <td>2007</td>\n",
       "      <td>80000</td>\n",
       "      <td>Gasoline</td>\n",
       "      <td>300.0HP 3.0L Straight 6 Cylinder Engine Gasoli...</td>\n",
       "      <td>6-Speed M/T</td>\n",
       "      <td>Black</td>\n",
       "      <td>Black</td>\n",
       "      <td>None reported</td>\n",
       "      <td>Yes</td>\n",
       "      <td>8250</td>\n",
       "    </tr>\n",
       "    <tr>\n",
       "      <th>2</th>\n",
       "      <td>2</td>\n",
       "      <td>Jaguar</td>\n",
       "      <td>XF Luxury</td>\n",
       "      <td>2009</td>\n",
       "      <td>91491</td>\n",
       "      <td>Gasoline</td>\n",
       "      <td>300.0HP 4.2L 8 Cylinder Engine Gasoline Fuel</td>\n",
       "      <td>6-Speed A/T</td>\n",
       "      <td>Purple</td>\n",
       "      <td>Beige</td>\n",
       "      <td>None reported</td>\n",
       "      <td>Yes</td>\n",
       "      <td>15000</td>\n",
       "    </tr>\n",
       "    <tr>\n",
       "      <th>3</th>\n",
       "      <td>3</td>\n",
       "      <td>BMW</td>\n",
       "      <td>X7 xDrive40i</td>\n",
       "      <td>2022</td>\n",
       "      <td>2437</td>\n",
       "      <td>Hybrid</td>\n",
       "      <td>335.0HP 3.0L Straight 6 Cylinder Engine Gasoli...</td>\n",
       "      <td>Transmission w/Dual Shift Mode</td>\n",
       "      <td>Gray</td>\n",
       "      <td>Brown</td>\n",
       "      <td>None reported</td>\n",
       "      <td>Yes</td>\n",
       "      <td>63500</td>\n",
       "    </tr>\n",
       "    <tr>\n",
       "      <th>4</th>\n",
       "      <td>4</td>\n",
       "      <td>Pontiac</td>\n",
       "      <td>Firebird Base</td>\n",
       "      <td>2001</td>\n",
       "      <td>111000</td>\n",
       "      <td>Gasoline</td>\n",
       "      <td>200.0HP 3.8L V6 Cylinder Engine Gasoline Fuel</td>\n",
       "      <td>A/T</td>\n",
       "      <td>White</td>\n",
       "      <td>Black</td>\n",
       "      <td>None reported</td>\n",
       "      <td>Yes</td>\n",
       "      <td>7850</td>\n",
       "    </tr>\n",
       "  </tbody>\n",
       "</table>\n",
       "</div>"
      ],
      "text/plain": [
       "   id    brand          model  model_year  milage fuel_type  \\\n",
       "0   0     Ford   F-150 Lariat        2018   74349  Gasoline   \n",
       "1   1      BMW          335 i        2007   80000  Gasoline   \n",
       "2   2   Jaguar      XF Luxury        2009   91491  Gasoline   \n",
       "3   3      BMW   X7 xDrive40i        2022    2437    Hybrid   \n",
       "4   4  Pontiac  Firebird Base        2001  111000  Gasoline   \n",
       "\n",
       "                                              engine  \\\n",
       "0      375.0HP 3.5L V6 Cylinder Engine Gasoline Fuel   \n",
       "1  300.0HP 3.0L Straight 6 Cylinder Engine Gasoli...   \n",
       "2       300.0HP 4.2L 8 Cylinder Engine Gasoline Fuel   \n",
       "3  335.0HP 3.0L Straight 6 Cylinder Engine Gasoli...   \n",
       "4      200.0HP 3.8L V6 Cylinder Engine Gasoline Fuel   \n",
       "\n",
       "                     transmission ext_col int_col       accident clean_title  \\\n",
       "0                    10-Speed A/T    Blue    Gray  None reported         Yes   \n",
       "1                     6-Speed M/T   Black   Black  None reported         Yes   \n",
       "2                     6-Speed A/T  Purple   Beige  None reported         Yes   \n",
       "3  Transmission w/Dual Shift Mode    Gray   Brown  None reported         Yes   \n",
       "4                             A/T   White   Black  None reported         Yes   \n",
       "\n",
       "   price  \n",
       "0  11000  \n",
       "1   8250  \n",
       "2  15000  \n",
       "3  63500  \n",
       "4   7850  "
      ]
     },
     "execution_count": 3,
     "metadata": {},
     "output_type": "execute_result"
    }
   ],
   "source": [
    "train.head()"
   ]
  },
  {
   "cell_type": "code",
   "execution_count": 4,
   "id": "8b9e1d0a-514c-4a90-847b-dc8952474e5d",
   "metadata": {},
   "outputs": [
    {
     "data": {
      "text/html": [
       "<div>\n",
       "<style scoped>\n",
       "    .dataframe tbody tr th:only-of-type {\n",
       "        vertical-align: middle;\n",
       "    }\n",
       "\n",
       "    .dataframe tbody tr th {\n",
       "        vertical-align: top;\n",
       "    }\n",
       "\n",
       "    .dataframe thead th {\n",
       "        text-align: right;\n",
       "    }\n",
       "</style>\n",
       "<table border=\"1\" class=\"dataframe\">\n",
       "  <thead>\n",
       "    <tr style=\"text-align: right;\">\n",
       "      <th></th>\n",
       "      <th>id</th>\n",
       "      <th>brand</th>\n",
       "      <th>model</th>\n",
       "      <th>model_year</th>\n",
       "      <th>milage</th>\n",
       "      <th>fuel_type</th>\n",
       "      <th>engine</th>\n",
       "      <th>transmission</th>\n",
       "      <th>ext_col</th>\n",
       "      <th>int_col</th>\n",
       "      <th>accident</th>\n",
       "      <th>clean_title</th>\n",
       "    </tr>\n",
       "  </thead>\n",
       "  <tbody>\n",
       "    <tr>\n",
       "      <th>0</th>\n",
       "      <td>54273</td>\n",
       "      <td>Mercedes-Benz</td>\n",
       "      <td>E-Class E 350</td>\n",
       "      <td>2014</td>\n",
       "      <td>73000</td>\n",
       "      <td>Gasoline</td>\n",
       "      <td>302.0HP 3.5L V6 Cylinder Engine Gasoline Fuel</td>\n",
       "      <td>A/T</td>\n",
       "      <td>White</td>\n",
       "      <td>Beige</td>\n",
       "      <td>None reported</td>\n",
       "      <td>Yes</td>\n",
       "    </tr>\n",
       "    <tr>\n",
       "      <th>1</th>\n",
       "      <td>54274</td>\n",
       "      <td>Lexus</td>\n",
       "      <td>RX 350 Base</td>\n",
       "      <td>2015</td>\n",
       "      <td>128032</td>\n",
       "      <td>Gasoline</td>\n",
       "      <td>275.0HP 3.5L V6 Cylinder Engine Gasoline Fuel</td>\n",
       "      <td>8-Speed A/T</td>\n",
       "      <td>Silver</td>\n",
       "      <td>Black</td>\n",
       "      <td>None reported</td>\n",
       "      <td>Yes</td>\n",
       "    </tr>\n",
       "    <tr>\n",
       "      <th>2</th>\n",
       "      <td>54275</td>\n",
       "      <td>Mercedes-Benz</td>\n",
       "      <td>C-Class C 300</td>\n",
       "      <td>2015</td>\n",
       "      <td>51983</td>\n",
       "      <td>Gasoline</td>\n",
       "      <td>241.0HP 2.0L 4 Cylinder Engine Gasoline Fuel</td>\n",
       "      <td>7-Speed A/T</td>\n",
       "      <td>Blue</td>\n",
       "      <td>White</td>\n",
       "      <td>None reported</td>\n",
       "      <td>Yes</td>\n",
       "    </tr>\n",
       "    <tr>\n",
       "      <th>3</th>\n",
       "      <td>54276</td>\n",
       "      <td>Land</td>\n",
       "      <td>Rover Range Rover 5.0L Supercharged Autobiogra...</td>\n",
       "      <td>2018</td>\n",
       "      <td>29500</td>\n",
       "      <td>Gasoline</td>\n",
       "      <td>518.0HP 5.0L 8 Cylinder Engine Gasoline Fuel</td>\n",
       "      <td>Transmission w/Dual Shift Mode</td>\n",
       "      <td>White</td>\n",
       "      <td>White</td>\n",
       "      <td>At least 1 accident or damage reported</td>\n",
       "      <td>Yes</td>\n",
       "    </tr>\n",
       "    <tr>\n",
       "      <th>4</th>\n",
       "      <td>54277</td>\n",
       "      <td>BMW</td>\n",
       "      <td>X6 xDrive40i</td>\n",
       "      <td>2020</td>\n",
       "      <td>90000</td>\n",
       "      <td>Gasoline</td>\n",
       "      <td>335.0HP 3.0L Straight 6 Cylinder Engine Gasoli...</td>\n",
       "      <td>8-Speed A/T</td>\n",
       "      <td>White</td>\n",
       "      <td>Black</td>\n",
       "      <td>At least 1 accident or damage reported</td>\n",
       "      <td>Yes</td>\n",
       "    </tr>\n",
       "  </tbody>\n",
       "</table>\n",
       "</div>"
      ],
      "text/plain": [
       "      id          brand                                              model  \\\n",
       "0  54273  Mercedes-Benz                                      E-Class E 350   \n",
       "1  54274          Lexus                                        RX 350 Base   \n",
       "2  54275  Mercedes-Benz                                      C-Class C 300   \n",
       "3  54276           Land  Rover Range Rover 5.0L Supercharged Autobiogra...   \n",
       "4  54277            BMW                                       X6 xDrive40i   \n",
       "\n",
       "   model_year  milage fuel_type  \\\n",
       "0        2014   73000  Gasoline   \n",
       "1        2015  128032  Gasoline   \n",
       "2        2015   51983  Gasoline   \n",
       "3        2018   29500  Gasoline   \n",
       "4        2020   90000  Gasoline   \n",
       "\n",
       "                                              engine  \\\n",
       "0      302.0HP 3.5L V6 Cylinder Engine Gasoline Fuel   \n",
       "1      275.0HP 3.5L V6 Cylinder Engine Gasoline Fuel   \n",
       "2       241.0HP 2.0L 4 Cylinder Engine Gasoline Fuel   \n",
       "3       518.0HP 5.0L 8 Cylinder Engine Gasoline Fuel   \n",
       "4  335.0HP 3.0L Straight 6 Cylinder Engine Gasoli...   \n",
       "\n",
       "                     transmission ext_col int_col  \\\n",
       "0                             A/T   White   Beige   \n",
       "1                     8-Speed A/T  Silver   Black   \n",
       "2                     7-Speed A/T    Blue   White   \n",
       "3  Transmission w/Dual Shift Mode   White   White   \n",
       "4                     8-Speed A/T   White   Black   \n",
       "\n",
       "                                 accident clean_title  \n",
       "0                           None reported         Yes  \n",
       "1                           None reported         Yes  \n",
       "2                           None reported         Yes  \n",
       "3  At least 1 accident or damage reported         Yes  \n",
       "4  At least 1 accident or damage reported         Yes  "
      ]
     },
     "execution_count": 4,
     "metadata": {},
     "output_type": "execute_result"
    }
   ],
   "source": [
    "test.head()"
   ]
  },
  {
   "cell_type": "code",
   "execution_count": 5,
   "id": "e93b836f-2631-4bcd-ab4a-5ae97ee8239b",
   "metadata": {},
   "outputs": [
    {
     "data": {
      "text/html": [
       "<div>\n",
       "<style scoped>\n",
       "    .dataframe tbody tr th:only-of-type {\n",
       "        vertical-align: middle;\n",
       "    }\n",
       "\n",
       "    .dataframe tbody tr th {\n",
       "        vertical-align: top;\n",
       "    }\n",
       "\n",
       "    .dataframe thead th {\n",
       "        text-align: right;\n",
       "    }\n",
       "</style>\n",
       "<table border=\"1\" class=\"dataframe\">\n",
       "  <thead>\n",
       "    <tr style=\"text-align: right;\">\n",
       "      <th></th>\n",
       "      <th>id</th>\n",
       "      <th>price</th>\n",
       "    </tr>\n",
       "  </thead>\n",
       "  <tbody>\n",
       "    <tr>\n",
       "      <th>0</th>\n",
       "      <td>54273</td>\n",
       "      <td>39218.443</td>\n",
       "    </tr>\n",
       "    <tr>\n",
       "      <th>1</th>\n",
       "      <td>54274</td>\n",
       "      <td>39218.443</td>\n",
       "    </tr>\n",
       "    <tr>\n",
       "      <th>2</th>\n",
       "      <td>54275</td>\n",
       "      <td>39218.443</td>\n",
       "    </tr>\n",
       "    <tr>\n",
       "      <th>3</th>\n",
       "      <td>54276</td>\n",
       "      <td>39218.443</td>\n",
       "    </tr>\n",
       "    <tr>\n",
       "      <th>4</th>\n",
       "      <td>54277</td>\n",
       "      <td>39218.443</td>\n",
       "    </tr>\n",
       "  </tbody>\n",
       "</table>\n",
       "</div>"
      ],
      "text/plain": [
       "      id      price\n",
       "0  54273  39218.443\n",
       "1  54274  39218.443\n",
       "2  54275  39218.443\n",
       "3  54276  39218.443\n",
       "4  54277  39218.443"
      ]
     },
     "execution_count": 5,
     "metadata": {},
     "output_type": "execute_result"
    }
   ],
   "source": [
    "submission.head()"
   ]
  },
  {
   "cell_type": "code",
   "execution_count": 6,
   "id": "6f6ce1c2-6c09-46ce-bff3-79ef788e2974",
   "metadata": {},
   "outputs": [
    {
     "name": "stdout",
     "output_type": "stream",
     "text": [
      "(54273, 13)\n",
      "(36183, 12)\n"
     ]
    }
   ],
   "source": [
    "print(train.shape)\n",
    "print(test.shape)"
   ]
  },
  {
   "cell_type": "code",
   "execution_count": 7,
   "id": "c52f8588-bc6f-45d5-ab6c-bb1ae3124891",
   "metadata": {},
   "outputs": [
    {
     "data": {
      "text/plain": [
       "Index(['id', 'brand', 'model', 'model_year', 'milage', 'fuel_type', 'engine',\n",
       "       'transmission', 'ext_col', 'int_col', 'accident', 'clean_title',\n",
       "       'price'],\n",
       "      dtype='object')"
      ]
     },
     "execution_count": 7,
     "metadata": {},
     "output_type": "execute_result"
    }
   ],
   "source": [
    "train.columns"
   ]
  },
  {
   "cell_type": "code",
   "execution_count": 8,
   "id": "a3215196-5e15-4914-9f6d-3ac7f99d8c41",
   "metadata": {},
   "outputs": [
    {
     "data": {
      "text/plain": [
       "Index(['id', 'brand', 'model', 'model_year', 'milage', 'fuel_type', 'engine',\n",
       "       'transmission', 'ext_col', 'int_col', 'accident', 'clean_title'],\n",
       "      dtype='object')"
      ]
     },
     "execution_count": 8,
     "metadata": {},
     "output_type": "execute_result"
    }
   ],
   "source": [
    "test.columns"
   ]
  },
  {
   "cell_type": "code",
   "execution_count": 9,
   "id": "e7baea66-d148-4155-a1c5-b706150e0f74",
   "metadata": {},
   "outputs": [
    {
     "data": {
      "text/plain": [
       "id               int64\n",
       "brand           object\n",
       "model           object\n",
       "model_year       int64\n",
       "milage           int64\n",
       "fuel_type       object\n",
       "engine          object\n",
       "transmission    object\n",
       "ext_col         object\n",
       "int_col         object\n",
       "accident        object\n",
       "clean_title     object\n",
       "price            int64\n",
       "dtype: object"
      ]
     },
     "execution_count": 9,
     "metadata": {},
     "output_type": "execute_result"
    }
   ],
   "source": [
    "train.dtypes"
   ]
  },
  {
   "cell_type": "code",
   "execution_count": 10,
   "id": "a6d7384f-371a-421a-bda9-e2123791397b",
   "metadata": {},
   "outputs": [
    {
     "data": {
      "text/plain": [
       "id               int64\n",
       "brand           object\n",
       "model           object\n",
       "model_year       int64\n",
       "milage           int64\n",
       "fuel_type       object\n",
       "engine          object\n",
       "transmission    object\n",
       "ext_col         object\n",
       "int_col         object\n",
       "accident        object\n",
       "clean_title     object\n",
       "dtype: object"
      ]
     },
     "execution_count": 10,
     "metadata": {},
     "output_type": "execute_result"
    }
   ],
   "source": [
    "test.dtypes"
   ]
  },
  {
   "cell_type": "code",
   "execution_count": 11,
   "id": "01d1125a-c857-498a-a375-37e4276ae212",
   "metadata": {},
   "outputs": [
    {
     "data": {
      "text/plain": [
       "id              0\n",
       "brand           0\n",
       "model           0\n",
       "model_year      0\n",
       "milage          0\n",
       "fuel_type       0\n",
       "engine          0\n",
       "transmission    0\n",
       "ext_col         0\n",
       "int_col         0\n",
       "accident        0\n",
       "clean_title     0\n",
       "price           0\n",
       "dtype: int64"
      ]
     },
     "execution_count": 11,
     "metadata": {},
     "output_type": "execute_result"
    }
   ],
   "source": [
    "train.isnull().sum()"
   ]
  },
  {
   "cell_type": "code",
   "execution_count": 12,
   "id": "8139b04d-51b5-4b64-812e-7444601639c1",
   "metadata": {},
   "outputs": [
    {
     "data": {
      "text/plain": [
       "id              0\n",
       "brand           0\n",
       "model           0\n",
       "model_year      0\n",
       "milage          0\n",
       "fuel_type       0\n",
       "engine          0\n",
       "transmission    0\n",
       "ext_col         0\n",
       "int_col         0\n",
       "accident        0\n",
       "clean_title     0\n",
       "dtype: int64"
      ]
     },
     "execution_count": 12,
     "metadata": {},
     "output_type": "execute_result"
    }
   ],
   "source": [
    "test.isnull().sum()"
   ]
  },
  {
   "cell_type": "code",
   "execution_count": 13,
   "id": "18fc0d59-fb9d-41b2-ab52-d06c76e95044",
   "metadata": {},
   "outputs": [
    {
     "data": {
      "text/plain": [
       "Index(['id', 'brand', 'model', 'model_year', 'milage', 'fuel_type', 'engine',\n",
       "       'transmission', 'ext_col', 'int_col', 'accident', 'clean_title',\n",
       "       'price'],\n",
       "      dtype='object')"
      ]
     },
     "execution_count": 13,
     "metadata": {},
     "output_type": "execute_result"
    }
   ],
   "source": [
    "train.columns"
   ]
  },
  {
   "cell_type": "code",
   "execution_count": 14,
   "id": "a811e65b-f384-4728-a350-38dc1fac3fdb",
   "metadata": {},
   "outputs": [
    {
     "data": {
      "text/plain": [
       "array(['Ford', 'BMW', 'Jaguar', 'Pontiac', 'Acura', 'Audi', 'GMC',\n",
       "       'Maserati', 'Chevrolet', 'Porsche', 'Mercedes-Benz', 'Tesla',\n",
       "       'Lexus', 'Kia', 'Lincoln', 'Dodge', 'Volkswagen', 'Land',\n",
       "       'Cadillac', 'Mazda', 'RAM', 'Subaru', 'Hyundai', 'MINI', 'Jeep',\n",
       "       'Honda', 'Hummer', 'Nissan', 'Toyota', 'Volvo', 'Genesis',\n",
       "       'Mitsubishi', 'Buick', 'INFINITI', 'McLaren', 'Scion',\n",
       "       'Lamborghini', 'Bentley', 'Suzuki', 'Ferrari', 'Alfa',\n",
       "       'Rolls-Royce', 'Chrysler', 'Aston', 'Rivian', 'Lotus', 'Saturn',\n",
       "       'Lucid', 'Mercury', 'Maybach', 'FIAT', 'Plymouth', 'Bugatti'],\n",
       "      dtype=object)"
      ]
     },
     "execution_count": 14,
     "metadata": {},
     "output_type": "execute_result"
    }
   ],
   "source": [
    "train['brand'].unique()"
   ]
  },
  {
   "cell_type": "code",
   "execution_count": 15,
   "id": "fec3efad-7153-490e-87ec-0230a7c9d03a",
   "metadata": {},
   "outputs": [
    {
     "data": {
      "text/plain": [
       "array(['F-150 Lariat', '335 i', 'XF Luxury', ...,\n",
       "       'Q4 e-tron Sportback Premium', 'Countryman Cooper', 'S-10 LS'],\n",
       "      dtype=object)"
      ]
     },
     "execution_count": 15,
     "metadata": {},
     "output_type": "execute_result"
    }
   ],
   "source": [
    "train['model'].unique()"
   ]
  },
  {
   "cell_type": "code",
   "execution_count": 16,
   "id": "d6fba702-6493-4d1b-bf00-2fde049ed388",
   "metadata": {},
   "outputs": [
    {
     "data": {
      "text/plain": [
       "array(['Gasoline', 'Hybrid', 'E85 Flex Fuel', 'Diesel', '–',\n",
       "       'Plug-In Hybrid', 'not supported'], dtype=object)"
      ]
     },
     "execution_count": 16,
     "metadata": {},
     "output_type": "execute_result"
    }
   ],
   "source": [
    "train['fuel_type'].unique()"
   ]
  },
  {
   "cell_type": "code",
   "execution_count": 17,
   "id": "3a5ead9f-bdf8-45f1-a3d7-3b84a7fde8db",
   "metadata": {},
   "outputs": [
    {
     "data": {
      "text/plain": [
       "array(['375.0HP 3.5L V6 Cylinder Engine Gasoline Fuel',\n",
       "       '300.0HP 3.0L Straight 6 Cylinder Engine Gasoline Fuel',\n",
       "       '300.0HP 4.2L 8 Cylinder Engine Gasoline Fuel', ..., '3.0L',\n",
       "       '3.0 Liter GTDI',\n",
       "       '120.0HP 2.2L 4 Cylinder Engine Flex Fuel Capability'],\n",
       "      dtype=object)"
      ]
     },
     "execution_count": 17,
     "metadata": {},
     "output_type": "execute_result"
    }
   ],
   "source": [
    "train['engine'].unique()"
   ]
  },
  {
   "cell_type": "code",
   "execution_count": 18,
   "id": "d94fe93e-4e46-4e18-8357-8c732b5a882b",
   "metadata": {},
   "outputs": [
    {
     "data": {
      "text/plain": [
       "array(['10-Speed A/T', '6-Speed M/T', '6-Speed A/T',\n",
       "       'Transmission w/Dual Shift Mode', 'A/T', '5-Speed M/T',\n",
       "       '7-Speed A/T', '5-Speed A/T', '8-Speed A/T',\n",
       "       'Transmission Overdrive Switch', '9-Speed Automatic',\n",
       "       '7-Speed M/T', '10-Speed Automatic', '6-Speed Automatic', 'M/T',\n",
       "       '5-Speed Automatic', 'CVT Transmission', '9-Speed A/T',\n",
       "       '8-Speed Automatic', '4-Speed A/T', 'Automatic', '1-Speed A/T',\n",
       "       '8-Speed Automatic with Auto-Shift', '7-Speed DCT Automatic',\n",
       "       'Automatic CVT', '7-Speed Automatic',\n",
       "       '7-Speed Automatic with Auto-Shift', '4-Speed Automatic',\n",
       "       '6-Speed Automatic with Auto-Shift', '6-Speed Manual',\n",
       "       '7-Speed Manual',\n",
       "       '6-Speed Electronically Controlled Automatic with O',\n",
       "       '1-Speed Automatic', '10-Speed Automatic with Overdrive',\n",
       "       '8-Speed Manual', '2-Speed A/T', 'CVT-F', '–', 'F',\n",
       "       '9-Speed Automatic with Auto-Shift', '7-Speed', 'Variable',\n",
       "       'SCHEDULED FOR OR IN PRODUCTION', '6-Speed', '6 Speed At/Mt',\n",
       "       '6 Speed Mt'], dtype=object)"
      ]
     },
     "execution_count": 18,
     "metadata": {},
     "output_type": "execute_result"
    }
   ],
   "source": [
    "train['transmission'].unique()"
   ]
  },
  {
   "cell_type": "code",
   "execution_count": 19,
   "id": "70d49061-b205-43cb-96fb-4eaa5f94c7e0",
   "metadata": {},
   "outputs": [
    {
     "data": {
      "text/plain": [
       "array(['Blue', 'Black', 'Purple', 'Gray', 'White', 'Red', 'Silver',\n",
       "       'Summit White', 'Platinum Quartz Metallic', 'Green', 'Orange',\n",
       "       'Lunar Rock', 'Red Quartz Tintcoat', 'Beige', 'Gold',\n",
       "       'Jet Black Mica', 'Delmonico Red Pearlcoat', 'Brown',\n",
       "       'Rich Garnet Metallic', 'Stellar Black Metallic', 'Yellow',\n",
       "       'Deep Black Pearl Effect', 'Metallic', 'Ice Silver Metallic',\n",
       "       'Agate Black Metallic', 'Rosso Mars Metallic', 'White Clearcoat',\n",
       "       'Santorini Black Metallic', 'DB Black Clearcoat',\n",
       "       'Snowflake White Pearl', 'Glacial White Pearl',\n",
       "       'Maximum Steel Metallic', 'Blue Caelum', 'Dark Matter Metallic',\n",
       "       '–', 'Oxford White', 'Cobra Beige Metallic',\n",
       "       'Velvet Red Pearlcoat', 'Python Green', 'Obsidian Black Metallic',\n",
       "       'Beluga Black', 'Blue Reflex Mica', 'Sparkling Silver',\n",
       "       'Black Clearcoat', 'Soul Red Crystal Metallic',\n",
       "       'Bright White Clearcoat', 'Shimmering Silver',\n",
       "       'Midnight Black Metallic', 'Cajun Red Tintcoat',\n",
       "       'Cirrus Silver Metallic', 'Blu', 'Burnished Bronze Metallic',\n",
       "       'Hellayella Clearcoat', 'Diamond Black', 'White Diamond Tri-Coat',\n",
       "       'Nebula Gray Pearl', 'Bronze Dune Metallic',\n",
       "       'Polymetal Gray Metallic', 'Nightfall Gray Metallic', 'Fuji White',\n",
       "       'Shadow Gray Metallic', 'Dark Moon Blue Metallic', 'Dark Sapphire',\n",
       "       'Firecracker Red Clearcoat', 'Black Raven',\n",
       "       'White Knuckle Clearcoat', 'Siren Red Tintcoat',\n",
       "       'Designo Magno Matte', 'Atomic Silver',\n",
       "       'Billet Silver Metallic Clearcoat', 'Ember Pearlcoat',\n",
       "       'Magnetic Black', 'Pacific Blue Metallic',\n",
       "       'Midnight Blue Metallic', 'Alta White', 'Eiger Grey',\n",
       "       'Diamond White', 'Onyx', 'Hyper Red', 'Ebony Twilight Metallic',\n",
       "       'Alpine White', 'Sonic Silver Metallic', 'Dark Ash Metallic',\n",
       "       'Volcano Grey Metallic', 'Patriot Blue Pearlcoat', 'Onyx Black',\n",
       "       'Titanium Silver', 'Granite Crystal Clearcoat Metallic',\n",
       "       'Nero Noctis', 'Silver Zynith', 'Black Cherry',\n",
       "       'Iconic Silver Metallic', 'Nero Daytona',\n",
       "       'Daytona Gray Pearl Effect', 'Dark Moss', 'Deep Crystal Blue Mica',\n",
       "       'China Blue', 'Magnetic Metallic', 'Midnight Black', 'Vega Blue',\n",
       "       'Sandstone Metallic', 'Machine Gray Metallic', 'C / C',\n",
       "       'Platinum Gray Metallic', 'Silver Ice Metallic',\n",
       "       'Carrara White Metallic', 'Black Sapphire Metallic', 'Go Mango!',\n",
       "       'White Frost Tri-Coat', 'Lizard Green', 'Santorin Black',\n",
       "       'Twilight Black', 'Gecko Pearlcoat', 'Satin Steel Metallic',\n",
       "       'Imperial Blue Metallic', 'Nautical Blue Pearl',\n",
       "       'Stone Gray Metallic', 'Quartzite Grey Metallic',\n",
       "       'Majestic Black Pearl', 'Shadow Black', 'Crimson Red Tintcoat',\n",
       "       'Silver Flare Metallic', 'Vik Black', 'Lunar Silver Metallic',\n",
       "       'Maroon', 'Redline Red', 'Iridescent Pearl Tricoat',\n",
       "       'Brilliant Silver Metallic', 'Lunar Blue Metallic', 'Matte White',\n",
       "       'Tan', 'Stormy Sea', 'Twilight Blue Metallic', 'Ibis White',\n",
       "       'Kodiak Brown Metallic', 'Crystal Black Silica',\n",
       "       'Sting Gray Clearcoat', 'Pristine White', 'Pearl White',\n",
       "       'Antimatter Blue Metallic', 'Tango Red Metallic',\n",
       "       'Crystal Black Pearl', 'Rift Metallic', 'Glacier White Metallic',\n",
       "       'Quartz White', 'Black Obsidian', 'Brilliant Black',\n",
       "       'Ruby Red Metallic Tinted Clearcoat', 'Tungsten Metallic',\n",
       "       'Magnetite Black Metallic', 'Jupiter Red', 'Glacier',\n",
       "       'Santorini Black', 'Navarre Blue',\n",
       "       'Phantom Black Pearl Effect / Black Roof',\n",
       "       'Isle of Man Green Metallic', 'Snowflake White Pearl Metallic',\n",
       "       'Brands Hatch Gray Metallic', 'Volcanic Orange', 'Liquid Platinum',\n",
       "       'Bayside Blue', 'Rapid Red Metallic Tinted Clearcoat',\n",
       "       'Majestic Plum Metallic', 'White Platinum Tri-Coat Metallic',\n",
       "       'Mosaic Black Metallic', 'Chalk', 'Black Noir Pearl',\n",
       "       'Nightfall Mica', 'Dark Gray Metallic', 'Mythos Black Metallic',\n",
       "       'Blueprint', 'Quicksilver Metallic', 'Frozen White',\n",
       "       'Lunare White Metallic', 'Verde', 'Dark Graphite Metallic',\n",
       "       'Mythos Black', 'Ebony Black', 'Ultra Black',\n",
       "       'Ingot Silver Metallic', 'Glacier Silver Metallic', 'Gun Metallic',\n",
       "       'Wind Chill Pearl', 'Anodized Blue Metallic',\n",
       "       'designo Diamond White', 'Tempest', 'Caviar',\n",
       "       'Phytonic Blue Metallic', 'Moonlight Cloud',\n",
       "       'Daytona Gray Pearl Effect w/ Black Roof', 'Bianco Isis',\n",
       "       'Carbonized Gray Metallic', 'Deep Blue Metallic',\n",
       "       'Ametrin Metallic', 'Super Black', 'Rosso Corsa', 'Blue Metallic',\n",
       "       'Iridium Metallic', 'Dark Slate Metallic',\n",
       "       'Manhattan Noir Metallic', 'Alfa White', 'Baltic Gray',\n",
       "       'Northsky Blue Metallic', 'Super White', 'Carbon Black Metallic',\n",
       "       'Horizon Blue', 'Jungle Green', 'Cayenne Red Tintcoat', 'Pink',\n",
       "       'Daytona Gray', 'Gentian Blue Metallic', 'Sangria Red',\n",
       "       'Kemora Gray Metallic', 'Magnetite Gray Metallic',\n",
       "       'Octane Red Pearlcoat', 'Custom Color', 'Ultra White',\n",
       "       'Pacific Blue', 'Ruby Flare Pearl', 'Caspian Blue',\n",
       "       'Silver Radiance', 'Carpathian Grey Premium Metallic', 'Ice',\n",
       "       'Balloon White', 'Shoreline Blue Pearl', 'Firenze Red Metallic',\n",
       "       'Remington Red Metallic', 'Orca Black Metallic',\n",
       "       'Radiant Red Metallic II', 'Mineral White', 'Glacier White',\n",
       "       'Snow White Pearl', 'Iridium Silver Metallic', 'Carpathian Grey',\n",
       "       'Mountain Air Metallic', 'Selenite Gray Metallic',\n",
       "       'Graphite Grey Metallic', 'Selenite Grey Metallic', 'Kinetic Blue',\n",
       "       'Wolf Gray', 'Star White', 'Emin White', 'Indus Silver',\n",
       "       'Matador Red Metallic', 'Portofino Gray', 'Black Forest Green',\n",
       "       'Dazzling White', 'Flame Red Clearcoat', 'Glacier Blue Metallic',\n",
       "       'Arctic White', 'Rosso', 'Silver Mist', 'Bianco Icarus Metallic',\n",
       "       'Firenze Red', 'Ironman Silver', 'Red Obsession',\n",
       "       'Magnetic Gray Metallic', 'Garnet Red Metallic',\n",
       "       'Vulcano Black Metallic', 'Magnetic Gray Clearcoat'], dtype=object)"
      ]
     },
     "execution_count": 19,
     "metadata": {},
     "output_type": "execute_result"
    }
   ],
   "source": [
    "train['ext_col'].unique() "
   ]
  },
  {
   "cell_type": "code",
   "execution_count": 20,
   "id": "1dd53288-ed56-4377-a278-5126c68c8cd2",
   "metadata": {},
   "outputs": [
    {
     "data": {
      "text/plain": [
       "array(['Gray', 'Black', 'Beige', 'Brown', 'Silver', 'Jet Black', 'Mesa',\n",
       "       'White', '–', 'Red', 'Blue', 'Medium Stone', 'Ash', 'Ebony',\n",
       "       'Shara Beige', 'Tan', 'Titan Black / Quarzit', 'Global Black',\n",
       "       'Orange', 'Saddle Brown', 'Nero Ade', 'Beluga', 'Light Slate',\n",
       "       'Gold', 'Black Onyx', 'Nougat Brown', 'Camel', 'Hotspur Hide',\n",
       "       'Charcoal', 'Satin Black', 'Deep Chestnut', 'Diesel Gray / Black',\n",
       "       'White / Brown', 'AMG Black', 'Parchment', 'Shale',\n",
       "       'Canberra Beige', 'Sahara Tan', 'Ebony / Pimento', 'Rhapsody Blue',\n",
       "       'Medium Dark Slate', 'Rioja Red', 'Black / Express Red',\n",
       "       'Deep Garnet', 'Portland', 'Sandstone', 'Dark Ash', 'Deep Cypress',\n",
       "       'Black / Stone Grey', 'Chestnut', 'Navy Pier', 'Green',\n",
       "       'Giallo Taurus / Nero Ade', 'Mistral Gray / Raven', 'Dark Gray',\n",
       "       'Amber', 'Charles Blue', 'Hotspur', 'Medium Earth Gray', 'Ceramic',\n",
       "       'Kyalami Orange', 'Charcoal Black', 'Adrenaline Red', 'Walnut',\n",
       "       'Brandy', 'Black / Saddle', 'Obsidian Black', 'Oyster W/Contrast',\n",
       "       'Macchiato', 'Red / Black', 'Whisper Beige', 'Graphite', 'Yellow',\n",
       "       'Medium Light Camel', 'Slate', 'Nero', 'Ebony Black', 'Espresso',\n",
       "       'Cappuccino', 'Ivory / Ebony', 'Boulder', 'Medium Ash Gray',\n",
       "       'Platinum', 'Light Platinum / Jet Black', 'Beluga Hide',\n",
       "       'Black / Graphite', 'Canberra Beige/Black', 'Rock Gray',\n",
       "       'Dark Auburn', 'Almond Beige', 'Sand Beige', 'Black / Brown',\n",
       "       'Ice', 'Silk Beige/Espresso Brown', 'Dark Galvanized',\n",
       "       'Cobalt Blue', 'Grace White', 'Titan Black', 'Cocoa / Dune',\n",
       "       'Light Gray', 'Camel Leather', 'Light Titanium',\n",
       "       'Pimento Red w/Ebony', 'Sport', 'Oyster/Black', 'Black/Red',\n",
       "       'Ebony / Ebony Accents', 'Cloud', 'Graystone', 'BLACK',\n",
       "       'Mountain Brown', 'Linen', 'Caramel', 'Black / Gray', 'Blk',\n",
       "       'Black w/Red Stitching', 'Mocha', 'Tupelo', 'Tan/Ebony',\n",
       "       'Parchment.', 'Black/Gun Metal', 'Very Light Cashmere',\n",
       "       'Medium Pewter', 'Red/Black'], dtype=object)"
      ]
     },
     "execution_count": 20,
     "metadata": {},
     "output_type": "execute_result"
    }
   ],
   "source": [
    "train['int_col'].unique()"
   ]
  },
  {
   "cell_type": "code",
   "execution_count": 21,
   "id": "e4adc3d5-e0eb-4ac6-8a0b-ff321d98a6fa",
   "metadata": {},
   "outputs": [
    {
     "data": {
      "text/plain": [
       "array(['None reported', 'At least 1 accident or damage reported'],\n",
       "      dtype=object)"
      ]
     },
     "execution_count": 21,
     "metadata": {},
     "output_type": "execute_result"
    }
   ],
   "source": [
    "train['accident'].unique()"
   ]
  },
  {
   "cell_type": "code",
   "execution_count": 22,
   "id": "57781b8b-191e-40a4-9937-845dfa4d2316",
   "metadata": {},
   "outputs": [
    {
     "data": {
      "text/plain": [
       "array(['Yes'], dtype=object)"
      ]
     },
     "execution_count": 22,
     "metadata": {},
     "output_type": "execute_result"
    }
   ],
   "source": [
    "train['clean_title'].unique()"
   ]
  },
  {
   "cell_type": "code",
   "execution_count": 23,
   "id": "eb0fc7ce-93b4-4a2b-a624-97638e624b6d",
   "metadata": {},
   "outputs": [
    {
     "data": {
      "text/html": [
       "<div>\n",
       "<style scoped>\n",
       "    .dataframe tbody tr th:only-of-type {\n",
       "        vertical-align: middle;\n",
       "    }\n",
       "\n",
       "    .dataframe tbody tr th {\n",
       "        vertical-align: top;\n",
       "    }\n",
       "\n",
       "    .dataframe thead th {\n",
       "        text-align: right;\n",
       "    }\n",
       "</style>\n",
       "<table border=\"1\" class=\"dataframe\">\n",
       "  <thead>\n",
       "    <tr style=\"text-align: right;\">\n",
       "      <th></th>\n",
       "      <th>id</th>\n",
       "      <th>brand</th>\n",
       "      <th>model</th>\n",
       "      <th>model_year</th>\n",
       "      <th>milage</th>\n",
       "      <th>fuel_type</th>\n",
       "      <th>engine</th>\n",
       "      <th>transmission</th>\n",
       "      <th>ext_col</th>\n",
       "      <th>int_col</th>\n",
       "      <th>accident</th>\n",
       "      <th>clean_title</th>\n",
       "      <th>price</th>\n",
       "    </tr>\n",
       "  </thead>\n",
       "  <tbody>\n",
       "    <tr>\n",
       "      <th>0</th>\n",
       "      <td>0</td>\n",
       "      <td>Ford</td>\n",
       "      <td>F-150 Lariat</td>\n",
       "      <td>2018</td>\n",
       "      <td>74349</td>\n",
       "      <td>Gasoline</td>\n",
       "      <td>375.0HP 3.5L V6 Cylinder Engine Gasoline Fuel</td>\n",
       "      <td>10-Speed A/T</td>\n",
       "      <td>Blue</td>\n",
       "      <td>Gray</td>\n",
       "      <td>None reported</td>\n",
       "      <td>Yes</td>\n",
       "      <td>11000</td>\n",
       "    </tr>\n",
       "    <tr>\n",
       "      <th>1</th>\n",
       "      <td>1</td>\n",
       "      <td>BMW</td>\n",
       "      <td>335 i</td>\n",
       "      <td>2007</td>\n",
       "      <td>80000</td>\n",
       "      <td>Gasoline</td>\n",
       "      <td>300.0HP 3.0L Straight 6 Cylinder Engine Gasoli...</td>\n",
       "      <td>6-Speed M/T</td>\n",
       "      <td>Black</td>\n",
       "      <td>Black</td>\n",
       "      <td>None reported</td>\n",
       "      <td>Yes</td>\n",
       "      <td>8250</td>\n",
       "    </tr>\n",
       "    <tr>\n",
       "      <th>2</th>\n",
       "      <td>2</td>\n",
       "      <td>Jaguar</td>\n",
       "      <td>XF Luxury</td>\n",
       "      <td>2009</td>\n",
       "      <td>91491</td>\n",
       "      <td>Gasoline</td>\n",
       "      <td>300.0HP 4.2L 8 Cylinder Engine Gasoline Fuel</td>\n",
       "      <td>6-Speed A/T</td>\n",
       "      <td>Purple</td>\n",
       "      <td>Beige</td>\n",
       "      <td>None reported</td>\n",
       "      <td>Yes</td>\n",
       "      <td>15000</td>\n",
       "    </tr>\n",
       "    <tr>\n",
       "      <th>3</th>\n",
       "      <td>3</td>\n",
       "      <td>BMW</td>\n",
       "      <td>X7 xDrive40i</td>\n",
       "      <td>2022</td>\n",
       "      <td>2437</td>\n",
       "      <td>Hybrid</td>\n",
       "      <td>335.0HP 3.0L Straight 6 Cylinder Engine Gasoli...</td>\n",
       "      <td>Transmission w/Dual Shift Mode</td>\n",
       "      <td>Gray</td>\n",
       "      <td>Brown</td>\n",
       "      <td>None reported</td>\n",
       "      <td>Yes</td>\n",
       "      <td>63500</td>\n",
       "    </tr>\n",
       "    <tr>\n",
       "      <th>4</th>\n",
       "      <td>4</td>\n",
       "      <td>Pontiac</td>\n",
       "      <td>Firebird Base</td>\n",
       "      <td>2001</td>\n",
       "      <td>111000</td>\n",
       "      <td>Gasoline</td>\n",
       "      <td>200.0HP 3.8L V6 Cylinder Engine Gasoline Fuel</td>\n",
       "      <td>A/T</td>\n",
       "      <td>White</td>\n",
       "      <td>Black</td>\n",
       "      <td>None reported</td>\n",
       "      <td>Yes</td>\n",
       "      <td>7850</td>\n",
       "    </tr>\n",
       "  </tbody>\n",
       "</table>\n",
       "</div>"
      ],
      "text/plain": [
       "   id    brand          model  model_year  milage fuel_type  \\\n",
       "0   0     Ford   F-150 Lariat        2018   74349  Gasoline   \n",
       "1   1      BMW          335 i        2007   80000  Gasoline   \n",
       "2   2   Jaguar      XF Luxury        2009   91491  Gasoline   \n",
       "3   3      BMW   X7 xDrive40i        2022    2437    Hybrid   \n",
       "4   4  Pontiac  Firebird Base        2001  111000  Gasoline   \n",
       "\n",
       "                                              engine  \\\n",
       "0      375.0HP 3.5L V6 Cylinder Engine Gasoline Fuel   \n",
       "1  300.0HP 3.0L Straight 6 Cylinder Engine Gasoli...   \n",
       "2       300.0HP 4.2L 8 Cylinder Engine Gasoline Fuel   \n",
       "3  335.0HP 3.0L Straight 6 Cylinder Engine Gasoli...   \n",
       "4      200.0HP 3.8L V6 Cylinder Engine Gasoline Fuel   \n",
       "\n",
       "                     transmission ext_col int_col       accident clean_title  \\\n",
       "0                    10-Speed A/T    Blue    Gray  None reported         Yes   \n",
       "1                     6-Speed M/T   Black   Black  None reported         Yes   \n",
       "2                     6-Speed A/T  Purple   Beige  None reported         Yes   \n",
       "3  Transmission w/Dual Shift Mode    Gray   Brown  None reported         Yes   \n",
       "4                             A/T   White   Black  None reported         Yes   \n",
       "\n",
       "   price  \n",
       "0  11000  \n",
       "1   8250  \n",
       "2  15000  \n",
       "3  63500  \n",
       "4   7850  "
      ]
     },
     "execution_count": 23,
     "metadata": {},
     "output_type": "execute_result"
    }
   ],
   "source": [
    "train.head()"
   ]
  },
  {
   "cell_type": "code",
   "execution_count": 24,
   "id": "46dd3361-514a-469f-ae6f-b27674bb66a3",
   "metadata": {},
   "outputs": [
    {
     "name": "stdout",
     "output_type": "stream",
     "text": [
      "object     9\n",
      "int64      3\n",
      "float64    1\n",
      "Name: count, dtype: int64\n",
      "Dimensions of data: (90456, 13)\n"
     ]
    }
   ],
   "source": [
    "\"\"\"Let's merge the train and test data and inspect the data type\"\"\"\n",
    "merged = pd.concat([train, test], axis=0, sort=True)\n",
    "print(merged.dtypes.value_counts())\n",
    "print('Dimensions of data:', merged.shape)"
   ]
  },
  {
   "cell_type": "code",
   "execution_count": 25,
   "id": "c3e5764d-bdb2-4202-8776-af5dae75445e",
   "metadata": {},
   "outputs": [],
   "source": [
    "# First we will combine the train and the test csv files\n",
    "# We will be including all the rows from the files and columns from MSSubClass till SaleCondition\n",
    "all_data = pd.concat((train.loc[:,:],\n",
    "                      test.loc[:,:]))"
   ]
  },
  {
   "cell_type": "code",
   "execution_count": 26,
   "id": "08db2736-d811-4558-b3f3-3156ad2e96fa",
   "metadata": {},
   "outputs": [
    {
     "data": {
      "text/html": [
       "<div>\n",
       "<style scoped>\n",
       "    .dataframe tbody tr th:only-of-type {\n",
       "        vertical-align: middle;\n",
       "    }\n",
       "\n",
       "    .dataframe tbody tr th {\n",
       "        vertical-align: top;\n",
       "    }\n",
       "\n",
       "    .dataframe thead th {\n",
       "        text-align: right;\n",
       "    }\n",
       "</style>\n",
       "<table border=\"1\" class=\"dataframe\">\n",
       "  <thead>\n",
       "    <tr style=\"text-align: right;\">\n",
       "      <th></th>\n",
       "      <th>id</th>\n",
       "      <th>brand</th>\n",
       "      <th>model</th>\n",
       "      <th>model_year</th>\n",
       "      <th>milage</th>\n",
       "      <th>fuel_type</th>\n",
       "      <th>engine</th>\n",
       "      <th>transmission</th>\n",
       "      <th>ext_col</th>\n",
       "      <th>int_col</th>\n",
       "      <th>accident</th>\n",
       "      <th>clean_title</th>\n",
       "      <th>price</th>\n",
       "    </tr>\n",
       "  </thead>\n",
       "  <tbody>\n",
       "    <tr>\n",
       "      <th>0</th>\n",
       "      <td>0</td>\n",
       "      <td>Ford</td>\n",
       "      <td>F-150 Lariat</td>\n",
       "      <td>2018</td>\n",
       "      <td>74349</td>\n",
       "      <td>Gasoline</td>\n",
       "      <td>375.0HP 3.5L V6 Cylinder Engine Gasoline Fuel</td>\n",
       "      <td>10-Speed A/T</td>\n",
       "      <td>Blue</td>\n",
       "      <td>Gray</td>\n",
       "      <td>None reported</td>\n",
       "      <td>Yes</td>\n",
       "      <td>11000.0</td>\n",
       "    </tr>\n",
       "    <tr>\n",
       "      <th>1</th>\n",
       "      <td>1</td>\n",
       "      <td>BMW</td>\n",
       "      <td>335 i</td>\n",
       "      <td>2007</td>\n",
       "      <td>80000</td>\n",
       "      <td>Gasoline</td>\n",
       "      <td>300.0HP 3.0L Straight 6 Cylinder Engine Gasoli...</td>\n",
       "      <td>6-Speed M/T</td>\n",
       "      <td>Black</td>\n",
       "      <td>Black</td>\n",
       "      <td>None reported</td>\n",
       "      <td>Yes</td>\n",
       "      <td>8250.0</td>\n",
       "    </tr>\n",
       "    <tr>\n",
       "      <th>2</th>\n",
       "      <td>2</td>\n",
       "      <td>Jaguar</td>\n",
       "      <td>XF Luxury</td>\n",
       "      <td>2009</td>\n",
       "      <td>91491</td>\n",
       "      <td>Gasoline</td>\n",
       "      <td>300.0HP 4.2L 8 Cylinder Engine Gasoline Fuel</td>\n",
       "      <td>6-Speed A/T</td>\n",
       "      <td>Purple</td>\n",
       "      <td>Beige</td>\n",
       "      <td>None reported</td>\n",
       "      <td>Yes</td>\n",
       "      <td>15000.0</td>\n",
       "    </tr>\n",
       "    <tr>\n",
       "      <th>3</th>\n",
       "      <td>3</td>\n",
       "      <td>BMW</td>\n",
       "      <td>X7 xDrive40i</td>\n",
       "      <td>2022</td>\n",
       "      <td>2437</td>\n",
       "      <td>Hybrid</td>\n",
       "      <td>335.0HP 3.0L Straight 6 Cylinder Engine Gasoli...</td>\n",
       "      <td>Transmission w/Dual Shift Mode</td>\n",
       "      <td>Gray</td>\n",
       "      <td>Brown</td>\n",
       "      <td>None reported</td>\n",
       "      <td>Yes</td>\n",
       "      <td>63500.0</td>\n",
       "    </tr>\n",
       "    <tr>\n",
       "      <th>4</th>\n",
       "      <td>4</td>\n",
       "      <td>Pontiac</td>\n",
       "      <td>Firebird Base</td>\n",
       "      <td>2001</td>\n",
       "      <td>111000</td>\n",
       "      <td>Gasoline</td>\n",
       "      <td>200.0HP 3.8L V6 Cylinder Engine Gasoline Fuel</td>\n",
       "      <td>A/T</td>\n",
       "      <td>White</td>\n",
       "      <td>Black</td>\n",
       "      <td>None reported</td>\n",
       "      <td>Yes</td>\n",
       "      <td>7850.0</td>\n",
       "    </tr>\n",
       "  </tbody>\n",
       "</table>\n",
       "</div>"
      ],
      "text/plain": [
       "   id    brand          model  model_year  milage fuel_type  \\\n",
       "0   0     Ford   F-150 Lariat        2018   74349  Gasoline   \n",
       "1   1      BMW          335 i        2007   80000  Gasoline   \n",
       "2   2   Jaguar      XF Luxury        2009   91491  Gasoline   \n",
       "3   3      BMW   X7 xDrive40i        2022    2437    Hybrid   \n",
       "4   4  Pontiac  Firebird Base        2001  111000  Gasoline   \n",
       "\n",
       "                                              engine  \\\n",
       "0      375.0HP 3.5L V6 Cylinder Engine Gasoline Fuel   \n",
       "1  300.0HP 3.0L Straight 6 Cylinder Engine Gasoli...   \n",
       "2       300.0HP 4.2L 8 Cylinder Engine Gasoline Fuel   \n",
       "3  335.0HP 3.0L Straight 6 Cylinder Engine Gasoli...   \n",
       "4      200.0HP 3.8L V6 Cylinder Engine Gasoline Fuel   \n",
       "\n",
       "                     transmission ext_col int_col       accident clean_title  \\\n",
       "0                    10-Speed A/T    Blue    Gray  None reported         Yes   \n",
       "1                     6-Speed M/T   Black   Black  None reported         Yes   \n",
       "2                     6-Speed A/T  Purple   Beige  None reported         Yes   \n",
       "3  Transmission w/Dual Shift Mode    Gray   Brown  None reported         Yes   \n",
       "4                             A/T   White   Black  None reported         Yes   \n",
       "\n",
       "     price  \n",
       "0  11000.0  \n",
       "1   8250.0  \n",
       "2  15000.0  \n",
       "3  63500.0  \n",
       "4   7850.0  "
      ]
     },
     "execution_count": 26,
     "metadata": {},
     "output_type": "execute_result"
    }
   ],
   "source": [
    "all_data.head()"
   ]
  },
  {
   "cell_type": "code",
   "execution_count": 27,
   "id": "54261224-e4d8-42c3-bff4-3ec5a7c0bd59",
   "metadata": {},
   "outputs": [],
   "source": [
    "from sklearn.preprocessing import LabelEncoder \n",
    "label_encoders = {}\n",
    "for column in ['brand', 'model', 'fuel_type', 'transmission', 'ext_col', 'int_col', 'engine']:\n",
    "    label_encoders[column] = LabelEncoder()\n",
    "    all_data[column] = label_encoders[column].fit_transform(all_data[column]) \n",
    "    \n",
    "    "
   ]
  },
  {
   "cell_type": "code",
   "execution_count": 28,
   "id": "a355957b-3fba-46bd-9e4d-0d4a2efb5ade",
   "metadata": {},
   "outputs": [
    {
     "data": {
      "text/html": [
       "<div>\n",
       "<style scoped>\n",
       "    .dataframe tbody tr th:only-of-type {\n",
       "        vertical-align: middle;\n",
       "    }\n",
       "\n",
       "    .dataframe tbody tr th {\n",
       "        vertical-align: top;\n",
       "    }\n",
       "\n",
       "    .dataframe thead th {\n",
       "        text-align: right;\n",
       "    }\n",
       "</style>\n",
       "<table border=\"1\" class=\"dataframe\">\n",
       "  <thead>\n",
       "    <tr style=\"text-align: right;\">\n",
       "      <th></th>\n",
       "      <th>id</th>\n",
       "      <th>brand</th>\n",
       "      <th>model</th>\n",
       "      <th>model_year</th>\n",
       "      <th>milage</th>\n",
       "      <th>fuel_type</th>\n",
       "      <th>engine</th>\n",
       "      <th>transmission</th>\n",
       "      <th>ext_col</th>\n",
       "      <th>int_col</th>\n",
       "      <th>accident</th>\n",
       "      <th>clean_title</th>\n",
       "      <th>price</th>\n",
       "    </tr>\n",
       "  </thead>\n",
       "  <tbody>\n",
       "    <tr>\n",
       "      <th>0</th>\n",
       "      <td>0</td>\n",
       "      <td>14</td>\n",
       "      <td>649</td>\n",
       "      <td>2018</td>\n",
       "      <td>74349</td>\n",
       "      <td>2</td>\n",
       "      <td>730</td>\n",
       "      <td>2</td>\n",
       "      <td>28</td>\n",
       "      <td>63</td>\n",
       "      <td>None reported</td>\n",
       "      <td>Yes</td>\n",
       "      <td>11000.0</td>\n",
       "    </tr>\n",
       "    <tr>\n",
       "      <th>1</th>\n",
       "      <td>1</td>\n",
       "      <td>4</td>\n",
       "      <td>49</td>\n",
       "      <td>2007</td>\n",
       "      <td>80000</td>\n",
       "      <td>2</td>\n",
       "      <td>544</td>\n",
       "      <td>19</td>\n",
       "      <td>19</td>\n",
       "      <td>12</td>\n",
       "      <td>None reported</td>\n",
       "      <td>Yes</td>\n",
       "      <td>8250.0</td>\n",
       "    </tr>\n",
       "    <tr>\n",
       "      <th>2</th>\n",
       "      <td>2</td>\n",
       "      <td>21</td>\n",
       "      <td>1803</td>\n",
       "      <td>2009</td>\n",
       "      <td>91491</td>\n",
       "      <td>2</td>\n",
       "      <td>551</td>\n",
       "      <td>15</td>\n",
       "      <td>194</td>\n",
       "      <td>9</td>\n",
       "      <td>None reported</td>\n",
       "      <td>Yes</td>\n",
       "      <td>15000.0</td>\n",
       "    </tr>\n",
       "    <tr>\n",
       "      <th>3</th>\n",
       "      <td>3</td>\n",
       "      <td>4</td>\n",
       "      <td>1779</td>\n",
       "      <td>2022</td>\n",
       "      <td>2437</td>\n",
       "      <td>3</td>\n",
       "      <td>657</td>\n",
       "      <td>45</td>\n",
       "      <td>107</td>\n",
       "      <td>28</td>\n",
       "      <td>None reported</td>\n",
       "      <td>Yes</td>\n",
       "      <td>63500.0</td>\n",
       "    </tr>\n",
       "    <tr>\n",
       "      <th>4</th>\n",
       "      <td>4</td>\n",
       "      <td>40</td>\n",
       "      <td>699</td>\n",
       "      <td>2001</td>\n",
       "      <td>111000</td>\n",
       "      <td>2</td>\n",
       "      <td>224</td>\n",
       "      <td>35</td>\n",
       "      <td>263</td>\n",
       "      <td>12</td>\n",
       "      <td>None reported</td>\n",
       "      <td>Yes</td>\n",
       "      <td>7850.0</td>\n",
       "    </tr>\n",
       "  </tbody>\n",
       "</table>\n",
       "</div>"
      ],
      "text/plain": [
       "   id  brand  model  model_year  milage  fuel_type  engine  transmission  \\\n",
       "0   0     14    649        2018   74349          2     730             2   \n",
       "1   1      4     49        2007   80000          2     544            19   \n",
       "2   2     21   1803        2009   91491          2     551            15   \n",
       "3   3      4   1779        2022    2437          3     657            45   \n",
       "4   4     40    699        2001  111000          2     224            35   \n",
       "\n",
       "   ext_col  int_col       accident clean_title    price  \n",
       "0       28       63  None reported         Yes  11000.0  \n",
       "1       19       12  None reported         Yes   8250.0  \n",
       "2      194        9  None reported         Yes  15000.0  \n",
       "3      107       28  None reported         Yes  63500.0  \n",
       "4      263       12  None reported         Yes   7850.0  "
      ]
     },
     "execution_count": 28,
     "metadata": {},
     "output_type": "execute_result"
    }
   ],
   "source": [
    "all_data.head()"
   ]
  },
  {
   "cell_type": "code",
   "execution_count": 29,
   "id": "d7811a6d-9f3f-41f1-b4cf-5d280b5c93b8",
   "metadata": {},
   "outputs": [],
   "source": [
    "all_data=all_data.drop(columns=['id'],axis=1)\n"
   ]
  },
  {
   "cell_type": "code",
   "execution_count": 30,
   "id": "102e152d-0b03-4aff-b612-beadac5c94dd",
   "metadata": {},
   "outputs": [
    {
     "data": {
      "text/plain": [
       "brand             int32\n",
       "model             int32\n",
       "model_year        int64\n",
       "milage            int64\n",
       "fuel_type         int32\n",
       "engine            int32\n",
       "transmission      int32\n",
       "ext_col           int32\n",
       "int_col           int32\n",
       "accident         object\n",
       "clean_title      object\n",
       "price           float64\n",
       "dtype: object"
      ]
     },
     "execution_count": 30,
     "metadata": {},
     "output_type": "execute_result"
    }
   ],
   "source": [
    "all_data.dtypes"
   ]
  },
  {
   "cell_type": "code",
   "execution_count": 31,
   "id": "65873a24-6367-4a1b-824f-c991dbbe2ca2",
   "metadata": {},
   "outputs": [],
   "source": [
    "columns= ['accident']\n",
    "\n",
    "for column in columns:\n",
    "    dummies= pd.get_dummies(all_data[column])\n",
    "    all_data=pd.concat([all_data,dummies],axis=1)"
   ]
  },
  {
   "cell_type": "code",
   "execution_count": 32,
   "id": "fa832e1a-6074-4e05-8875-56964594414c",
   "metadata": {},
   "outputs": [
    {
     "data": {
      "text/html": [
       "<div>\n",
       "<style scoped>\n",
       "    .dataframe tbody tr th:only-of-type {\n",
       "        vertical-align: middle;\n",
       "    }\n",
       "\n",
       "    .dataframe tbody tr th {\n",
       "        vertical-align: top;\n",
       "    }\n",
       "\n",
       "    .dataframe thead th {\n",
       "        text-align: right;\n",
       "    }\n",
       "</style>\n",
       "<table border=\"1\" class=\"dataframe\">\n",
       "  <thead>\n",
       "    <tr style=\"text-align: right;\">\n",
       "      <th></th>\n",
       "      <th>brand</th>\n",
       "      <th>model</th>\n",
       "      <th>model_year</th>\n",
       "      <th>milage</th>\n",
       "      <th>fuel_type</th>\n",
       "      <th>engine</th>\n",
       "      <th>transmission</th>\n",
       "      <th>ext_col</th>\n",
       "      <th>int_col</th>\n",
       "      <th>accident</th>\n",
       "      <th>clean_title</th>\n",
       "      <th>price</th>\n",
       "      <th>At least 1 accident or damage reported</th>\n",
       "      <th>None reported</th>\n",
       "    </tr>\n",
       "  </thead>\n",
       "  <tbody>\n",
       "    <tr>\n",
       "      <th>0</th>\n",
       "      <td>14</td>\n",
       "      <td>649</td>\n",
       "      <td>2018</td>\n",
       "      <td>74349</td>\n",
       "      <td>2</td>\n",
       "      <td>730</td>\n",
       "      <td>2</td>\n",
       "      <td>28</td>\n",
       "      <td>63</td>\n",
       "      <td>None reported</td>\n",
       "      <td>Yes</td>\n",
       "      <td>11000.0</td>\n",
       "      <td>False</td>\n",
       "      <td>True</td>\n",
       "    </tr>\n",
       "    <tr>\n",
       "      <th>1</th>\n",
       "      <td>4</td>\n",
       "      <td>49</td>\n",
       "      <td>2007</td>\n",
       "      <td>80000</td>\n",
       "      <td>2</td>\n",
       "      <td>544</td>\n",
       "      <td>19</td>\n",
       "      <td>19</td>\n",
       "      <td>12</td>\n",
       "      <td>None reported</td>\n",
       "      <td>Yes</td>\n",
       "      <td>8250.0</td>\n",
       "      <td>False</td>\n",
       "      <td>True</td>\n",
       "    </tr>\n",
       "    <tr>\n",
       "      <th>2</th>\n",
       "      <td>21</td>\n",
       "      <td>1803</td>\n",
       "      <td>2009</td>\n",
       "      <td>91491</td>\n",
       "      <td>2</td>\n",
       "      <td>551</td>\n",
       "      <td>15</td>\n",
       "      <td>194</td>\n",
       "      <td>9</td>\n",
       "      <td>None reported</td>\n",
       "      <td>Yes</td>\n",
       "      <td>15000.0</td>\n",
       "      <td>False</td>\n",
       "      <td>True</td>\n",
       "    </tr>\n",
       "    <tr>\n",
       "      <th>3</th>\n",
       "      <td>4</td>\n",
       "      <td>1779</td>\n",
       "      <td>2022</td>\n",
       "      <td>2437</td>\n",
       "      <td>3</td>\n",
       "      <td>657</td>\n",
       "      <td>45</td>\n",
       "      <td>107</td>\n",
       "      <td>28</td>\n",
       "      <td>None reported</td>\n",
       "      <td>Yes</td>\n",
       "      <td>63500.0</td>\n",
       "      <td>False</td>\n",
       "      <td>True</td>\n",
       "    </tr>\n",
       "    <tr>\n",
       "      <th>4</th>\n",
       "      <td>40</td>\n",
       "      <td>699</td>\n",
       "      <td>2001</td>\n",
       "      <td>111000</td>\n",
       "      <td>2</td>\n",
       "      <td>224</td>\n",
       "      <td>35</td>\n",
       "      <td>263</td>\n",
       "      <td>12</td>\n",
       "      <td>None reported</td>\n",
       "      <td>Yes</td>\n",
       "      <td>7850.0</td>\n",
       "      <td>False</td>\n",
       "      <td>True</td>\n",
       "    </tr>\n",
       "  </tbody>\n",
       "</table>\n",
       "</div>"
      ],
      "text/plain": [
       "   brand  model  model_year  milage  fuel_type  engine  transmission  ext_col  \\\n",
       "0     14    649        2018   74349          2     730             2       28   \n",
       "1      4     49        2007   80000          2     544            19       19   \n",
       "2     21   1803        2009   91491          2     551            15      194   \n",
       "3      4   1779        2022    2437          3     657            45      107   \n",
       "4     40    699        2001  111000          2     224            35      263   \n",
       "\n",
       "   int_col       accident clean_title    price  \\\n",
       "0       63  None reported         Yes  11000.0   \n",
       "1       12  None reported         Yes   8250.0   \n",
       "2        9  None reported         Yes  15000.0   \n",
       "3       28  None reported         Yes  63500.0   \n",
       "4       12  None reported         Yes   7850.0   \n",
       "\n",
       "   At least 1 accident or damage reported  None reported  \n",
       "0                                   False           True  \n",
       "1                                   False           True  \n",
       "2                                   False           True  \n",
       "3                                   False           True  \n",
       "4                                   False           True  "
      ]
     },
     "execution_count": 32,
     "metadata": {},
     "output_type": "execute_result"
    }
   ],
   "source": [
    "all_data.head()"
   ]
  },
  {
   "cell_type": "code",
   "execution_count": 33,
   "id": "d8c2dc3c-0abb-4f19-aa65-285857d3f783",
   "metadata": {},
   "outputs": [],
   "source": [
    "all_data['clean_title']=all_data['clean_title'].replace({'Yes':1})"
   ]
  },
  {
   "cell_type": "code",
   "execution_count": 34,
   "id": "5de20c29-e6b3-4c07-92ee-72dfe9315a6e",
   "metadata": {},
   "outputs": [],
   "source": [
    "all_data=all_data.drop(columns=['accident'],axis=1)"
   ]
  },
  {
   "cell_type": "code",
   "execution_count": 35,
   "id": "6ae87bd1-420b-4de3-b578-116b48c91035",
   "metadata": {},
   "outputs": [
    {
     "data": {
      "text/html": [
       "<div>\n",
       "<style scoped>\n",
       "    .dataframe tbody tr th:only-of-type {\n",
       "        vertical-align: middle;\n",
       "    }\n",
       "\n",
       "    .dataframe tbody tr th {\n",
       "        vertical-align: top;\n",
       "    }\n",
       "\n",
       "    .dataframe thead th {\n",
       "        text-align: right;\n",
       "    }\n",
       "</style>\n",
       "<table border=\"1\" class=\"dataframe\">\n",
       "  <thead>\n",
       "    <tr style=\"text-align: right;\">\n",
       "      <th></th>\n",
       "      <th>brand</th>\n",
       "      <th>model</th>\n",
       "      <th>model_year</th>\n",
       "      <th>milage</th>\n",
       "      <th>fuel_type</th>\n",
       "      <th>engine</th>\n",
       "      <th>transmission</th>\n",
       "      <th>ext_col</th>\n",
       "      <th>int_col</th>\n",
       "      <th>clean_title</th>\n",
       "      <th>price</th>\n",
       "      <th>At least 1 accident or damage reported</th>\n",
       "      <th>None reported</th>\n",
       "    </tr>\n",
       "  </thead>\n",
       "  <tbody>\n",
       "    <tr>\n",
       "      <th>0</th>\n",
       "      <td>14</td>\n",
       "      <td>649</td>\n",
       "      <td>2018</td>\n",
       "      <td>74349</td>\n",
       "      <td>2</td>\n",
       "      <td>730</td>\n",
       "      <td>2</td>\n",
       "      <td>28</td>\n",
       "      <td>63</td>\n",
       "      <td>1</td>\n",
       "      <td>11000.0</td>\n",
       "      <td>False</td>\n",
       "      <td>True</td>\n",
       "    </tr>\n",
       "    <tr>\n",
       "      <th>1</th>\n",
       "      <td>4</td>\n",
       "      <td>49</td>\n",
       "      <td>2007</td>\n",
       "      <td>80000</td>\n",
       "      <td>2</td>\n",
       "      <td>544</td>\n",
       "      <td>19</td>\n",
       "      <td>19</td>\n",
       "      <td>12</td>\n",
       "      <td>1</td>\n",
       "      <td>8250.0</td>\n",
       "      <td>False</td>\n",
       "      <td>True</td>\n",
       "    </tr>\n",
       "    <tr>\n",
       "      <th>2</th>\n",
       "      <td>21</td>\n",
       "      <td>1803</td>\n",
       "      <td>2009</td>\n",
       "      <td>91491</td>\n",
       "      <td>2</td>\n",
       "      <td>551</td>\n",
       "      <td>15</td>\n",
       "      <td>194</td>\n",
       "      <td>9</td>\n",
       "      <td>1</td>\n",
       "      <td>15000.0</td>\n",
       "      <td>False</td>\n",
       "      <td>True</td>\n",
       "    </tr>\n",
       "    <tr>\n",
       "      <th>3</th>\n",
       "      <td>4</td>\n",
       "      <td>1779</td>\n",
       "      <td>2022</td>\n",
       "      <td>2437</td>\n",
       "      <td>3</td>\n",
       "      <td>657</td>\n",
       "      <td>45</td>\n",
       "      <td>107</td>\n",
       "      <td>28</td>\n",
       "      <td>1</td>\n",
       "      <td>63500.0</td>\n",
       "      <td>False</td>\n",
       "      <td>True</td>\n",
       "    </tr>\n",
       "    <tr>\n",
       "      <th>4</th>\n",
       "      <td>40</td>\n",
       "      <td>699</td>\n",
       "      <td>2001</td>\n",
       "      <td>111000</td>\n",
       "      <td>2</td>\n",
       "      <td>224</td>\n",
       "      <td>35</td>\n",
       "      <td>263</td>\n",
       "      <td>12</td>\n",
       "      <td>1</td>\n",
       "      <td>7850.0</td>\n",
       "      <td>False</td>\n",
       "      <td>True</td>\n",
       "    </tr>\n",
       "  </tbody>\n",
       "</table>\n",
       "</div>"
      ],
      "text/plain": [
       "   brand  model  model_year  milage  fuel_type  engine  transmission  ext_col  \\\n",
       "0     14    649        2018   74349          2     730             2       28   \n",
       "1      4     49        2007   80000          2     544            19       19   \n",
       "2     21   1803        2009   91491          2     551            15      194   \n",
       "3      4   1779        2022    2437          3     657            45      107   \n",
       "4     40    699        2001  111000          2     224            35      263   \n",
       "\n",
       "   int_col  clean_title    price  At least 1 accident or damage reported  \\\n",
       "0       63            1  11000.0                                   False   \n",
       "1       12            1   8250.0                                   False   \n",
       "2        9            1  15000.0                                   False   \n",
       "3       28            1  63500.0                                   False   \n",
       "4       12            1   7850.0                                   False   \n",
       "\n",
       "   None reported  \n",
       "0           True  \n",
       "1           True  \n",
       "2           True  \n",
       "3           True  \n",
       "4           True  "
      ]
     },
     "execution_count": 35,
     "metadata": {},
     "output_type": "execute_result"
    }
   ],
   "source": [
    "all_data.head()"
   ]
  },
  {
   "cell_type": "markdown",
   "id": "955a0b5d-91e2-4d65-a4a4-f85cc9f545ce",
   "metadata": {},
   "source": [
    "## Exploratory Data Analysis"
   ]
  },
  {
   "cell_type": "code",
   "execution_count": 36,
   "id": "0393b7bd-dea3-4938-b70e-d83c160ec67d",
   "metadata": {},
   "outputs": [
    {
     "data": {
      "text/plain": [
       "brand                                       int32\n",
       "model                                       int32\n",
       "model_year                                  int64\n",
       "milage                                      int64\n",
       "fuel_type                                   int32\n",
       "engine                                      int32\n",
       "transmission                                int32\n",
       "ext_col                                     int32\n",
       "int_col                                     int32\n",
       "clean_title                                 int64\n",
       "price                                     float64\n",
       "At least 1 accident or damage reported       bool\n",
       "None reported                                bool\n",
       "dtype: object"
      ]
     },
     "execution_count": 36,
     "metadata": {},
     "output_type": "execute_result"
    }
   ],
   "source": [
    "all_data.dtypes"
   ]
  },
  {
   "cell_type": "code",
   "execution_count": 37,
   "id": "2d6fd286-745c-4f47-a6cd-42742f6f0a84",
   "metadata": {},
   "outputs": [],
   "source": [
    "numerical_data= all_data.select_dtypes(include=['int64','int32', 'float64'])\n",
    "boolean_data= all_data.select_dtypes(include=['bool'])"
   ]
  },
  {
   "cell_type": "code",
   "execution_count": 38,
   "id": "18a7e5e4-5470-4a4d-91e5-9721db80b763",
   "metadata": {},
   "outputs": [
    {
     "data": {
      "text/html": [
       "<div>\n",
       "<style scoped>\n",
       "    .dataframe tbody tr th:only-of-type {\n",
       "        vertical-align: middle;\n",
       "    }\n",
       "\n",
       "    .dataframe tbody tr th {\n",
       "        vertical-align: top;\n",
       "    }\n",
       "\n",
       "    .dataframe thead th {\n",
       "        text-align: right;\n",
       "    }\n",
       "</style>\n",
       "<table border=\"1\" class=\"dataframe\">\n",
       "  <thead>\n",
       "    <tr style=\"text-align: right;\">\n",
       "      <th></th>\n",
       "      <th>brand</th>\n",
       "      <th>model</th>\n",
       "      <th>model_year</th>\n",
       "      <th>milage</th>\n",
       "      <th>fuel_type</th>\n",
       "      <th>engine</th>\n",
       "      <th>transmission</th>\n",
       "      <th>ext_col</th>\n",
       "      <th>int_col</th>\n",
       "      <th>clean_title</th>\n",
       "      <th>price</th>\n",
       "    </tr>\n",
       "  </thead>\n",
       "  <tbody>\n",
       "    <tr>\n",
       "      <th>count</th>\n",
       "      <td>90456.000000</td>\n",
       "      <td>90456.0000</td>\n",
       "      <td>90456.000000</td>\n",
       "      <td>90456.000000</td>\n",
       "      <td>90456.000000</td>\n",
       "      <td>90456.000000</td>\n",
       "      <td>90456.000000</td>\n",
       "      <td>90456.000000</td>\n",
       "      <td>90456.000000</td>\n",
       "      <td>90456.0</td>\n",
       "      <td>5.427300e+04</td>\n",
       "    </tr>\n",
       "    <tr>\n",
       "      <th>mean</th>\n",
       "      <td>21.000774</td>\n",
       "      <td>905.8859</td>\n",
       "      <td>2015.080769</td>\n",
       "      <td>72639.410332</td>\n",
       "      <td>1.994130</td>\n",
       "      <td>575.200241</td>\n",
       "      <td>27.761895</td>\n",
       "      <td>131.734799</td>\n",
       "      <td>27.860208</td>\n",
       "      <td>1.0</td>\n",
       "      <td>3.921844e+04</td>\n",
       "    </tr>\n",
       "    <tr>\n",
       "      <th>std</th>\n",
       "      <td>14.947212</td>\n",
       "      <td>553.2690</td>\n",
       "      <td>5.589065</td>\n",
       "      <td>50567.715194</td>\n",
       "      <td>0.490244</td>\n",
       "      <td>266.356832</td>\n",
       "      <td>11.620612</td>\n",
       "      <td>102.584054</td>\n",
       "      <td>32.222809</td>\n",
       "      <td>0.0</td>\n",
       "      <td>7.282634e+04</td>\n",
       "    </tr>\n",
       "    <tr>\n",
       "      <th>min</th>\n",
       "      <td>0.000000</td>\n",
       "      <td>0.0000</td>\n",
       "      <td>1974.000000</td>\n",
       "      <td>100.000000</td>\n",
       "      <td>0.000000</td>\n",
       "      <td>0.000000</td>\n",
       "      <td>0.000000</td>\n",
       "      <td>0.000000</td>\n",
       "      <td>0.000000</td>\n",
       "      <td>1.0</td>\n",
       "      <td>2.000000e+03</td>\n",
       "    </tr>\n",
       "    <tr>\n",
       "      <th>25%</th>\n",
       "      <td>9.000000</td>\n",
       "      <td>456.0000</td>\n",
       "      <td>2012.000000</td>\n",
       "      <td>32000.000000</td>\n",
       "      <td>2.000000</td>\n",
       "      <td>355.000000</td>\n",
       "      <td>19.000000</td>\n",
       "      <td>19.000000</td>\n",
       "      <td>12.000000</td>\n",
       "      <td>1.0</td>\n",
       "      <td>1.550000e+04</td>\n",
       "    </tr>\n",
       "    <tr>\n",
       "      <th>50%</th>\n",
       "      <td>17.000000</td>\n",
       "      <td>840.0000</td>\n",
       "      <td>2016.000000</td>\n",
       "      <td>66000.000000</td>\n",
       "      <td>2.000000</td>\n",
       "      <td>592.000000</td>\n",
       "      <td>29.000000</td>\n",
       "      <td>107.000000</td>\n",
       "      <td>12.000000</td>\n",
       "      <td>1.0</td>\n",
       "      <td>2.800000e+04</td>\n",
       "    </tr>\n",
       "    <tr>\n",
       "      <th>75%</th>\n",
       "      <td>35.000000</td>\n",
       "      <td>1407.0000</td>\n",
       "      <td>2019.000000</td>\n",
       "      <td>102000.000000</td>\n",
       "      <td>2.000000</td>\n",
       "      <td>798.000000</td>\n",
       "      <td>35.000000</td>\n",
       "      <td>263.000000</td>\n",
       "      <td>28.000000</td>\n",
       "      <td>1.0</td>\n",
       "      <td>4.500000e+04</td>\n",
       "    </tr>\n",
       "    <tr>\n",
       "      <th>max</th>\n",
       "      <td>54.000000</td>\n",
       "      <td>1858.0000</td>\n",
       "      <td>2024.000000</td>\n",
       "      <td>405000.000000</td>\n",
       "      <td>6.000000</td>\n",
       "      <td>1076.000000</td>\n",
       "      <td>47.000000</td>\n",
       "      <td>274.000000</td>\n",
       "      <td>132.000000</td>\n",
       "      <td>1.0</td>\n",
       "      <td>2.954083e+06</td>\n",
       "    </tr>\n",
       "  </tbody>\n",
       "</table>\n",
       "</div>"
      ],
      "text/plain": [
       "              brand       model    model_year         milage     fuel_type  \\\n",
       "count  90456.000000  90456.0000  90456.000000   90456.000000  90456.000000   \n",
       "mean      21.000774    905.8859   2015.080769   72639.410332      1.994130   \n",
       "std       14.947212    553.2690      5.589065   50567.715194      0.490244   \n",
       "min        0.000000      0.0000   1974.000000     100.000000      0.000000   \n",
       "25%        9.000000    456.0000   2012.000000   32000.000000      2.000000   \n",
       "50%       17.000000    840.0000   2016.000000   66000.000000      2.000000   \n",
       "75%       35.000000   1407.0000   2019.000000  102000.000000      2.000000   \n",
       "max       54.000000   1858.0000   2024.000000  405000.000000      6.000000   \n",
       "\n",
       "             engine  transmission       ext_col       int_col  clean_title  \\\n",
       "count  90456.000000  90456.000000  90456.000000  90456.000000      90456.0   \n",
       "mean     575.200241     27.761895    131.734799     27.860208          1.0   \n",
       "std      266.356832     11.620612    102.584054     32.222809          0.0   \n",
       "min        0.000000      0.000000      0.000000      0.000000          1.0   \n",
       "25%      355.000000     19.000000     19.000000     12.000000          1.0   \n",
       "50%      592.000000     29.000000    107.000000     12.000000          1.0   \n",
       "75%      798.000000     35.000000    263.000000     28.000000          1.0   \n",
       "max     1076.000000     47.000000    274.000000    132.000000          1.0   \n",
       "\n",
       "              price  \n",
       "count  5.427300e+04  \n",
       "mean   3.921844e+04  \n",
       "std    7.282634e+04  \n",
       "min    2.000000e+03  \n",
       "25%    1.550000e+04  \n",
       "50%    2.800000e+04  \n",
       "75%    4.500000e+04  \n",
       "max    2.954083e+06  "
      ]
     },
     "execution_count": 38,
     "metadata": {},
     "output_type": "execute_result"
    }
   ],
   "source": [
    "numerical_data.describe()"
   ]
  },
  {
   "cell_type": "code",
   "execution_count": 39,
   "id": "81cd41e0-9f7c-4448-9065-98cc57542c0a",
   "metadata": {},
   "outputs": [
    {
     "data": {
      "text/plain": [
       "Index(['brand', 'model', 'model_year', 'milage', 'fuel_type', 'engine',\n",
       "       'transmission', 'ext_col', 'int_col', 'clean_title', 'price'],\n",
       "      dtype='object')"
      ]
     },
     "execution_count": 39,
     "metadata": {},
     "output_type": "execute_result"
    }
   ],
   "source": [
    "numerical_data.columns"
   ]
  },
  {
   "cell_type": "code",
   "execution_count": 40,
   "id": "e0439c21-bba4-486a-aeb1-237070570dbc",
   "metadata": {},
   "outputs": [
    {
     "data": {
      "image/png": "[encoded data removed]",
      "text/plain": [
       "<Figure size 1500x1000 with 12 Axes>"
      ]
     },
     "metadata": {},
     "output_type": "display_data"
    }
   ],
   "source": [
    "columns= ['brand', 'model', 'model_year', 'milage', 'fuel_type', 'engine',\n",
    "       'transmission', 'ext_col', 'int_col', 'clean_title', 'price']\n",
    "\n",
    "numerical_data[columns].hist(bins=12, figsize=[15,10]); "
   ]
  },
  {
   "cell_type": "code",
   "execution_count": 41,
   "id": "54db7fc4-ed60-4906-8eaf-e4ffe4ef60f7",
   "metadata": {},
   "outputs": [
    {
     "data": {
      "text/plain": [
       "Index(['At least 1 accident or damage reported', 'None reported'], dtype='object')"
      ]
     },
     "execution_count": 41,
     "metadata": {},
     "output_type": "execute_result"
    }
   ],
   "source": [
    "boolean_data.columns"
   ]
  },
  {
   "cell_type": "code",
   "execution_count": 42,
   "id": "5a2d9a16-d360-474c-a306-b0ecb4bdaf59",
   "metadata": {},
   "outputs": [
    {
     "data": {
      "image/png": "[encoded data removed]",
      "text/plain": [
       "<Figure size 400x300 with 1 Axes>"
      ]
     },
     "metadata": {},
     "output_type": "display_data"
    }
   ],
   "source": [
    "plt.figure(figsize=[4,3])\n",
    "sns.countplot(data= all_data , x='At least 1 accident or damage reported')\n",
    "plt.title('Distribution of At least 1 accident or damage reported', fontsize=8); "
   ]
  },
  {
   "cell_type": "code",
   "execution_count": 43,
   "id": "607197c1-7c56-44c5-98fc-54df5e4b2488",
   "metadata": {},
   "outputs": [
    {
     "data": {
      "image/png": "[encoded data removed]",
      "text/plain": [
       "<Figure size 400x300 with 1 Axes>"
      ]
     },
     "metadata": {},
     "output_type": "display_data"
    }
   ],
   "source": [
    "plt.figure(figsize=[4,3])\n",
    "sns.countplot(data= all_data, x='None reported')\n",
    "plt.title('Distribution of None Reported Accident Cases', fontsize=8);"
   ]
  },
  {
   "cell_type": "code",
   "execution_count": 44,
   "id": "4bd9a8e3-6738-45d2-9fd5-0e4976730174",
   "metadata": {},
   "outputs": [
    {
     "data": {
      "text/plain": [
       "<Axes: >"
      ]
     },
     "execution_count": 44,
     "metadata": {},
     "output_type": "execute_result"
    },
    {
     "data": {
      "image/png": "[encoded data removed]",
      "text/plain": [
       "<Figure size 1000x700 with 2 Axes>"
      ]
     },
     "metadata": {},
     "output_type": "display_data"
    }
   ],
   "source": [
    "plt.figure(figsize=[10,7])\n",
    "sns.heatmap(all_data.corr(), annot=True) "
   ]
  },
  {
   "cell_type": "code",
   "execution_count": 45,
   "id": "8a58df52-0fb5-4af2-bda4-03458bbacc20",
   "metadata": {},
   "outputs": [
    {
     "data": {
      "image/png": "[encoded data removed]",
      "text/plain": [
       "<Figure size 640x480 with 1 Axes>"
      ]
     },
     "metadata": {},
     "output_type": "display_data"
    }
   ],
   "source": [
    "n_reported=all_data['None reported'].value_counts().sum()\n",
    "max_reported_count=all_data['None reported'].value_counts()[0]\n",
    "max_reported_prop=max_reported_count/n_reported\n",
    "tick_props=np.arange(0,max_reported_prop,0.20 )\n",
    "tick_name=['{:0.2f}'.format(v) for v in tick_props]\n",
    "\n",
    "base_color=sns.color_palette()[0]\n",
    "type_order=all_data['None reported'].value_counts().index\n",
    "sns.countplot(data=all_data, y='None reported', color=base_color, order=type_order)\n",
    "plt.xticks(tick_props*n_reported, tick_name)\n",
    "plt.title('Percentage of None Reported accident Cases', fontsize=15);\n",
    "\n",
    "\n",
    "for i in range(all_data['None reported'].value_counts().shape[0]):\n",
    "    count=all_data['None reported'].value_counts()[i]\n",
    "    pct_string='{:0.1f}%'.format(100*count/n_reported)\n",
    "    plt.text(count+1,i,pct_string, va='center')\n",
    "    plt.xlabel('Proportion')\n",
    "    #plt.savefig('image1.png');"
   ]
  },
  {
   "cell_type": "code",
   "execution_count": 46,
   "id": "8e9564f4-62d6-4cd9-9168-45b57c29aafe",
   "metadata": {},
   "outputs": [
    {
     "data": {
      "image/png": "[encoded data removed]",
      "text/plain": [
       "<Figure size 640x480 with 1 Axes>"
      ]
     },
     "metadata": {},
     "output_type": "display_data"
    }
   ],
   "source": [
    "n_damage_reported=all_data['At least 1 accident or damage reported'].value_counts().sum()\n",
    "max_damage_reporte_count=all_data['At least 1 accident or damage reported'].value_counts()[0]\n",
    "max_damage_reporte_prop=max_damage_reporte_count/n_damage_reported\n",
    "tick_props=np.arange(0,max_damage_reporte_prop,0.20 )\n",
    "tick_name=['{:0.2f}'.format(v) for v in tick_props]\n",
    "\n",
    "base_color=sns.color_palette()[0]\n",
    "type_order=all_data['At least 1 accident or damage reported'].value_counts().index\n",
    "sns.countplot(data=all_data, y='At least 1 accident or damage reported', color=base_color, order=type_order)\n",
    "plt.xticks(tick_props*n_damage_reported, tick_name)\n",
    "plt.title('Percentage of At least 1 accident or damage reported', fontsize=10);\n",
    "\n",
    "\n",
    "for i in range(all_data['At least 1 accident or damage reported'].value_counts().shape[0]):\n",
    "    count=all_data['At least 1 accident or damage reported'].value_counts()[i]\n",
    "    pct_string='{:0.1f}%'.format(100*count/n_damage_reported)\n",
    "    plt.text(count+1,i,pct_string, va='center')\n",
    "    plt.xlabel('Proportion')\n",
    "    #plt.savefig('image1.png');"
   ]
  },
  {
   "cell_type": "markdown",
   "id": "af4b254c-1e3e-4731-b087-ad52348c9bc6",
   "metadata": {},
   "source": [
    "## Feature Engineering and Feature Selection"
   ]
  },
  {
   "cell_type": "code",
   "execution_count": 47,
   "id": "3cd6ec6c-056c-4422-bd54-8c5b03ee2426",
   "metadata": {},
   "outputs": [],
   "source": [
    "current_year = 2024\n",
    "all_data['vehicle_age'] = current_year - all_data['model_year']\n",
    "\n",
    "\n",
    "# Calculate milage per year\n",
    "all_data['milage_per_year'] = all_data['milage'] / all_data['vehicle_age']\n",
    "\n",
    "\n",
    "\n",
    "all_data['fuel_type_age'] = all_data['fuel_type'] * all_data['vehicle_age']\n",
    "\n",
    "\n",
    "# Create color combination feature\n",
    "all_data['color_combination'] = all_data['ext_col'] + all_data['int_col']\n",
    "\n",
    "\n",
    "# Calculate brand-model popularity count\n",
    "all_data['brand_model'] = all_data['brand']  + all_data['model']\n",
    "all_data['brand_model_count'] = all_data.groupby('brand_model')['brand_model'].transform('count')\n",
    "\n",
    "\n",
    "\n",
    "# Create age-engine interaction term\n",
    "all_data['age_engine_interaction'] = all_data['vehicle_age'] * all_data['engine']\n",
    "\n",
    "# Drop temporary columns\n",
    "all_data=all_data.drop(columns=[ 'brand_model'], axis=1)\n"
   ]
  },
  {
   "cell_type": "code",
   "execution_count": 48,
   "id": "1b74aa13-5b18-46e9-826c-94d602094007",
   "metadata": {},
   "outputs": [
    {
     "data": {
      "text/html": [
       "<div>\n",
       "<style scoped>\n",
       "    .dataframe tbody tr th:only-of-type {\n",
       "        vertical-align: middle;\n",
       "    }\n",
       "\n",
       "    .dataframe tbody tr th {\n",
       "        vertical-align: top;\n",
       "    }\n",
       "\n",
       "    .dataframe thead th {\n",
       "        text-align: right;\n",
       "    }\n",
       "</style>\n",
       "<table border=\"1\" class=\"dataframe\">\n",
       "  <thead>\n",
       "    <tr style=\"text-align: right;\">\n",
       "      <th></th>\n",
       "      <th>brand</th>\n",
       "      <th>model</th>\n",
       "      <th>model_year</th>\n",
       "      <th>milage</th>\n",
       "      <th>fuel_type</th>\n",
       "      <th>engine</th>\n",
       "      <th>transmission</th>\n",
       "      <th>ext_col</th>\n",
       "      <th>int_col</th>\n",
       "      <th>clean_title</th>\n",
       "      <th>price</th>\n",
       "      <th>At least 1 accident or damage reported</th>\n",
       "      <th>None reported</th>\n",
       "      <th>vehicle_age</th>\n",
       "      <th>milage_per_year</th>\n",
       "      <th>fuel_type_age</th>\n",
       "      <th>color_combination</th>\n",
       "      <th>brand_model_count</th>\n",
       "      <th>age_engine_interaction</th>\n",
       "    </tr>\n",
       "  </thead>\n",
       "  <tbody>\n",
       "    <tr>\n",
       "      <th>0</th>\n",
       "      <td>14</td>\n",
       "      <td>649</td>\n",
       "      <td>2018</td>\n",
       "      <td>74349</td>\n",
       "      <td>2</td>\n",
       "      <td>730</td>\n",
       "      <td>2</td>\n",
       "      <td>28</td>\n",
       "      <td>63</td>\n",
       "      <td>1</td>\n",
       "      <td>11000.0</td>\n",
       "      <td>False</td>\n",
       "      <td>True</td>\n",
       "      <td>6</td>\n",
       "      <td>12391.500000</td>\n",
       "      <td>12</td>\n",
       "      <td>91</td>\n",
       "      <td>821</td>\n",
       "      <td>4380</td>\n",
       "    </tr>\n",
       "    <tr>\n",
       "      <th>1</th>\n",
       "      <td>4</td>\n",
       "      <td>49</td>\n",
       "      <td>2007</td>\n",
       "      <td>80000</td>\n",
       "      <td>2</td>\n",
       "      <td>544</td>\n",
       "      <td>19</td>\n",
       "      <td>19</td>\n",
       "      <td>12</td>\n",
       "      <td>1</td>\n",
       "      <td>8250.0</td>\n",
       "      <td>False</td>\n",
       "      <td>True</td>\n",
       "      <td>17</td>\n",
       "      <td>4705.882353</td>\n",
       "      <td>34</td>\n",
       "      <td>31</td>\n",
       "      <td>458</td>\n",
       "      <td>9248</td>\n",
       "    </tr>\n",
       "    <tr>\n",
       "      <th>2</th>\n",
       "      <td>21</td>\n",
       "      <td>1803</td>\n",
       "      <td>2009</td>\n",
       "      <td>91491</td>\n",
       "      <td>2</td>\n",
       "      <td>551</td>\n",
       "      <td>15</td>\n",
       "      <td>194</td>\n",
       "      <td>9</td>\n",
       "      <td>1</td>\n",
       "      <td>15000.0</td>\n",
       "      <td>False</td>\n",
       "      <td>True</td>\n",
       "      <td>15</td>\n",
       "      <td>6099.400000</td>\n",
       "      <td>30</td>\n",
       "      <td>203</td>\n",
       "      <td>33</td>\n",
       "      <td>8265</td>\n",
       "    </tr>\n",
       "    <tr>\n",
       "      <th>3</th>\n",
       "      <td>4</td>\n",
       "      <td>1779</td>\n",
       "      <td>2022</td>\n",
       "      <td>2437</td>\n",
       "      <td>3</td>\n",
       "      <td>657</td>\n",
       "      <td>45</td>\n",
       "      <td>107</td>\n",
       "      <td>28</td>\n",
       "      <td>1</td>\n",
       "      <td>63500.0</td>\n",
       "      <td>False</td>\n",
       "      <td>True</td>\n",
       "      <td>2</td>\n",
       "      <td>1218.500000</td>\n",
       "      <td>6</td>\n",
       "      <td>135</td>\n",
       "      <td>308</td>\n",
       "      <td>1314</td>\n",
       "    </tr>\n",
       "    <tr>\n",
       "      <th>4</th>\n",
       "      <td>40</td>\n",
       "      <td>699</td>\n",
       "      <td>2001</td>\n",
       "      <td>111000</td>\n",
       "      <td>2</td>\n",
       "      <td>224</td>\n",
       "      <td>35</td>\n",
       "      <td>263</td>\n",
       "      <td>12</td>\n",
       "      <td>1</td>\n",
       "      <td>7850.0</td>\n",
       "      <td>False</td>\n",
       "      <td>True</td>\n",
       "      <td>23</td>\n",
       "      <td>4826.086957</td>\n",
       "      <td>46</td>\n",
       "      <td>275</td>\n",
       "      <td>95</td>\n",
       "      <td>5152</td>\n",
       "    </tr>\n",
       "  </tbody>\n",
       "</table>\n",
       "</div>"
      ],
      "text/plain": [
       "   brand  model  model_year  milage  fuel_type  engine  transmission  ext_col  \\\n",
       "0     14    649        2018   74349          2     730             2       28   \n",
       "1      4     49        2007   80000          2     544            19       19   \n",
       "2     21   1803        2009   91491          2     551            15      194   \n",
       "3      4   1779        2022    2437          3     657            45      107   \n",
       "4     40    699        2001  111000          2     224            35      263   \n",
       "\n",
       "   int_col  clean_title    price  At least 1 accident or damage reported  \\\n",
       "0       63            1  11000.0                                   False   \n",
       "1       12            1   8250.0                                   False   \n",
       "2        9            1  15000.0                                   False   \n",
       "3       28            1  63500.0                                   False   \n",
       "4       12            1   7850.0                                   False   \n",
       "\n",
       "   None reported  vehicle_age  milage_per_year  fuel_type_age  \\\n",
       "0           True            6     12391.500000             12   \n",
       "1           True           17      4705.882353             34   \n",
       "2           True           15      6099.400000             30   \n",
       "3           True            2      1218.500000              6   \n",
       "4           True           23      4826.086957             46   \n",
       "\n",
       "   color_combination  brand_model_count  age_engine_interaction  \n",
       "0                 91                821                    4380  \n",
       "1                 31                458                    9248  \n",
       "2                203                 33                    8265  \n",
       "3                135                308                    1314  \n",
       "4                275                 95                    5152  "
      ]
     },
     "execution_count": 48,
     "metadata": {},
     "output_type": "execute_result"
    }
   ],
   "source": [
    "all_data.head()"
   ]
  },
  {
   "cell_type": "code",
   "execution_count": 49,
   "id": "dc7c02ca-c965-4a67-ab5a-5369cb20347a",
   "metadata": {},
   "outputs": [
    {
     "data": {
      "text/plain": [
       "brand                                         0\n",
       "model                                         0\n",
       "model_year                                    0\n",
       "milage                                        0\n",
       "fuel_type                                     0\n",
       "engine                                        0\n",
       "transmission                                  0\n",
       "ext_col                                       0\n",
       "int_col                                       0\n",
       "clean_title                                   0\n",
       "price                                     36183\n",
       "At least 1 accident or damage reported        0\n",
       "None reported                                 0\n",
       "vehicle_age                                   0\n",
       "milage_per_year                               0\n",
       "fuel_type_age                                 0\n",
       "color_combination                             0\n",
       "brand_model_count                             0\n",
       "age_engine_interaction                        0\n",
       "dtype: int64"
      ]
     },
     "execution_count": 49,
     "metadata": {},
     "output_type": "execute_result"
    }
   ],
   "source": [
    "# Check for NaNs\n",
    "all_data.isnull().sum()"
   ]
  },
  {
   "cell_type": "code",
   "execution_count": 50,
   "id": "0dac6f49-a470-4a49-881c-18dac1fd9dad",
   "metadata": {},
   "outputs": [
    {
     "name": "stdout",
     "output_type": "stream",
     "text": [
      "Columns with Infs: ['milage_per_year']\n"
     ]
    }
   ],
   "source": [
    "# Check for infs\n",
    "inf_cols =all_data.columns[(all_data == np.inf).any() | (all_data == -np.inf).any()].tolist()\n",
    "print(f\"Columns with Infs: {inf_cols}\")"
   ]
  },
  {
   "cell_type": "code",
   "execution_count": 51,
   "id": "e8b45c8d-3d2d-43c6-8133-c48fd8f519aa",
   "metadata": {},
   "outputs": [],
   "source": [
    "all_data['At least 1 accident or damage reported']=all_data['At least 1 accident or damage reported'].replace({'True':1, 'False':0})\n",
    "all_data['None reported']=all_data['None reported'].replace({'True':1, 'False':0})\n",
    "all_data['At least 1 accident or damage reported']=all_data['At least 1 accident or damage reported'].astype('float64')\n",
    "all_data['None reported']=all_data['None reported'].astype('float64')"
   ]
  },
  {
   "cell_type": "code",
   "execution_count": 52,
   "id": "a75414cd-ee55-4f20-9dc9-0489019a2089",
   "metadata": {},
   "outputs": [
    {
     "data": {
      "text/plain": [
       "brand                                       int32\n",
       "model                                       int32\n",
       "model_year                                  int64\n",
       "milage                                      int64\n",
       "fuel_type                                   int32\n",
       "engine                                      int32\n",
       "transmission                                int32\n",
       "ext_col                                     int32\n",
       "int_col                                     int32\n",
       "clean_title                                 int64\n",
       "price                                     float64\n",
       "At least 1 accident or damage reported    float64\n",
       "None reported                             float64\n",
       "vehicle_age                                 int64\n",
       "milage_per_year                           float64\n",
       "fuel_type_age                               int64\n",
       "color_combination                           int32\n",
       "brand_model_count                           int64\n",
       "age_engine_interaction                      int64\n",
       "dtype: object"
      ]
     },
     "execution_count": 52,
     "metadata": {},
     "output_type": "execute_result"
    }
   ],
   "source": [
    "all_data.dtypes"
   ]
  },
  {
   "cell_type": "code",
   "execution_count": 53,
   "id": "38a0146b-4c73-4ec5-b7a1-225efd1eb14b",
   "metadata": {},
   "outputs": [
    {
     "name": "stdout",
     "output_type": "stream",
     "text": [
      "Rows with Inf values:\n",
      "       brand  model  model_year  milage  fuel_type  engine  transmission  \\\n",
      "1392       4    954        2024   13102          2     963            45   \n",
      "7337       4    136        2024    1500          3     657            35   \n",
      "9847       4   1779        2024    9000          3     746            35   \n",
      "10831      4    954        2024     124          2     963            22   \n",
      "11685     31   1247        2024    7000          2     840            35   \n",
      "...      ...    ...         ...     ...        ...     ...           ...   \n",
      "33610      4    954        2024   21100          2     963            45   \n",
      "34316      4    954        2024    3415          2     963            45   \n",
      "35301      4    954        2024    1500          2     963            45   \n",
      "35927     41    158        2024   19500          2     873            22   \n",
      "35986     31    799        2024    1500          2     840            28   \n",
      "\n",
      "       ext_col  int_col  clean_title     price  \\\n",
      "1392       107       12            1    7858.0   \n",
      "7337       107       28            1   90000.0   \n",
      "9847       263       25            1   82500.0   \n",
      "10831       19       12            1   65999.0   \n",
      "11685       19       28            1  145000.0   \n",
      "...        ...      ...          ...       ...   \n",
      "33610      107       12            1       NaN   \n",
      "34316      263      103            1       NaN   \n",
      "35301      108       12            1       NaN   \n",
      "35927      107       12            1       NaN   \n",
      "35986      107       12            1       NaN   \n",
      "\n",
      "       At least 1 accident or damage reported  None reported  vehicle_age  \\\n",
      "1392                                      1.0            0.0            0   \n",
      "7337                                      0.0            1.0            0   \n",
      "9847                                      0.0            1.0            0   \n",
      "10831                                     0.0            1.0            0   \n",
      "11685                                     0.0            1.0            0   \n",
      "...                                       ...            ...          ...   \n",
      "33610                                     0.0            1.0            0   \n",
      "34316                                     0.0            1.0            0   \n",
      "35301                                     0.0            1.0            0   \n",
      "35927                                     0.0            1.0            0   \n",
      "35986                                     0.0            1.0            0   \n",
      "\n",
      "       milage_per_year  fuel_type_age  color_combination  brand_model_count  \\\n",
      "1392               inf              0                119                124   \n",
      "7337               inf              0                135                 28   \n",
      "9847               inf              0                288                308   \n",
      "10831              inf              0                 31                124   \n",
      "11685              inf              0                 47                 25   \n",
      "...                ...            ...                ...                ...   \n",
      "33610              inf              0                119                124   \n",
      "34316              inf              0                366                124   \n",
      "35301              inf              0                120                124   \n",
      "35927              inf              0                119                 21   \n",
      "35986              inf              0                119                 70   \n",
      "\n",
      "       age_engine_interaction  \n",
      "1392                        0  \n",
      "7337                        0  \n",
      "9847                        0  \n",
      "10831                       0  \n",
      "11685                       0  \n",
      "...                       ...  \n",
      "33610                       0  \n",
      "34316                       0  \n",
      "35301                       0  \n",
      "35927                       0  \n",
      "35986                       0  \n",
      "\n",
      "[84 rows x 19 columns]\n"
     ]
    }
   ],
   "source": [
    "# Identify rows with Inf values\n",
    "inf_rows = all_data[np.isinf(all_data).any(axis=1)]\n",
    "print(\"Rows with Inf values:\")\n",
    "print(inf_rows) "
   ]
  },
  {
   "cell_type": "code",
   "execution_count": 54,
   "id": "326563b3-350d-47e0-85c8-2776003e6eb7",
   "metadata": {},
   "outputs": [],
   "source": [
    "# Drop rows with NaN values\n",
    "all_data=all_data.fillna(all_data.median())"
   ]
  },
  {
   "cell_type": "code",
   "execution_count": 55,
   "id": "4ced3fe8-c60d-49c9-ad4d-27eccd669b60",
   "metadata": {},
   "outputs": [],
   "source": [
    "all_data = all_data.replace([np.inf, -np.inf], np.nan)"
   ]
  },
  {
   "cell_type": "code",
   "execution_count": 56,
   "id": "56ee94dc-eb89-4b01-a0d2-5afe011b052f",
   "metadata": {},
   "outputs": [
    {
     "name": "stdout",
     "output_type": "stream",
     "text": [
      "(90456, 19)\n"
     ]
    }
   ],
   "source": [
    "print(all_data.shape)"
   ]
  },
  {
   "cell_type": "code",
   "execution_count": 57,
   "id": "f77e845c-b872-41b0-a3a5-a4b0718f3dcb",
   "metadata": {},
   "outputs": [
    {
     "data": {
      "text/plain": [
       "brand                                      0\n",
       "model                                      0\n",
       "model_year                                 0\n",
       "milage                                     0\n",
       "fuel_type                                  0\n",
       "engine                                     0\n",
       "transmission                               0\n",
       "ext_col                                    0\n",
       "int_col                                    0\n",
       "clean_title                                0\n",
       "price                                      0\n",
       "At least 1 accident or damage reported     0\n",
       "None reported                              0\n",
       "vehicle_age                                0\n",
       "milage_per_year                           84\n",
       "fuel_type_age                              0\n",
       "color_combination                          0\n",
       "brand_model_count                          0\n",
       "age_engine_interaction                     0\n",
       "dtype: int64"
      ]
     },
     "execution_count": 57,
     "metadata": {},
     "output_type": "execute_result"
    }
   ],
   "source": [
    "all_data.isnull().sum()"
   ]
  },
  {
   "cell_type": "code",
   "execution_count": 58,
   "id": "f596fbab-2af7-49e2-b4a2-8119a6c9a9c0",
   "metadata": {},
   "outputs": [],
   "source": [
    "all_data=all_data.drop(columns=['fuel_type_age'],axis=1)"
   ]
  },
  {
   "cell_type": "code",
   "execution_count": 59,
   "id": "f4cb8895-c6a6-4b15-8ccf-87c65d71d724",
   "metadata": {},
   "outputs": [
    {
     "name": "stdout",
     "output_type": "stream",
     "text": [
      "-0.0034426215178869025 0.3004876067588473\n",
      "-0.02027704296943953 1.0670290102940035e-09\n",
      "0.16687211469202745 0.0\n",
      "-0.19128397789905888 0.0\n",
      "0.0011480309121935702 0.7298868748679156\n",
      "0.1669488877825584 0.0\n",
      "0.00035568936176218994 0.9148085623633583\n",
      "-0.0074155267547235185 0.02572842570025214\n",
      "0.01654498711977225 6.480238931172192e-07\n",
      "nan nan\n"
     ]
    }
   ],
   "source": [
    "columns= ['brand', 'model', 'model_year', 'milage', 'fuel_type', 'engine',\n",
    "       'transmission', 'ext_col', 'int_col', 'clean_title']\n",
    "from scipy import stats\n",
    "for cols in columns:\n",
    "    r,p = stats.pearsonr(all_data[cols], all_data['price'])\n",
    "    print(r,p)\n",
    "    "
   ]
  },
  {
   "cell_type": "markdown",
   "id": "8120ae1d-0aa3-4fa9-8d71-17c10eed1c88",
   "metadata": {},
   "source": [
    "## Modeling"
   ]
  },
  {
   "cell_type": "code",
   "execution_count": 60,
   "id": "7b5c8a33-07f7-4f0d-8874-9a342d44a6de",
   "metadata": {},
   "outputs": [
    {
     "data": {
      "text/plain": [
       "(90456, 18)"
      ]
     },
     "execution_count": 60,
     "metadata": {},
     "output_type": "execute_result"
    }
   ],
   "source": [
    "all_data.shape"
   ]
  },
  {
   "cell_type": "code",
   "execution_count": 61,
   "id": "6b608f87-8396-4ed5-9c5a-e3e642824efb",
   "metadata": {},
   "outputs": [
    {
     "data": {
      "text/plain": [
       "(54273, 18)"
      ]
     },
     "execution_count": 61,
     "metadata": {},
     "output_type": "execute_result"
    }
   ],
   "source": [
    "train=all_data.iloc[:train.shape[0],:]\n",
    "train.shape"
   ]
  },
  {
   "cell_type": "code",
   "execution_count": 62,
   "id": "18a4fa44-c204-4f85-af7d-c01d4ee070b2",
   "metadata": {},
   "outputs": [
    {
     "data": {
      "text/plain": [
       "(36183, 18)"
      ]
     },
     "execution_count": 62,
     "metadata": {},
     "output_type": "execute_result"
    }
   ],
   "source": [
    "test=all_data.iloc[train.shape[0]:,:]\n",
    "test.shape"
   ]
  },
  {
   "cell_type": "code",
   "execution_count": 63,
   "id": "48bac998-e3ab-4829-a06c-ff5fe44548fd",
   "metadata": {},
   "outputs": [],
   "source": [
    "# Ensure test and train have the same columns\n",
    "assert set(train.columns) == set(test.columns)"
   ]
  },
  {
   "cell_type": "code",
   "execution_count": 64,
   "id": "2e06dad6-ce76-44b7-92fa-e00a4ad54b64",
   "metadata": {},
   "outputs": [
    {
     "data": {
      "text/plain": [
       "Index(['brand', 'model', 'model_year', 'milage', 'fuel_type', 'engine',\n",
       "       'transmission', 'ext_col', 'int_col', 'clean_title', 'price',\n",
       "       'At least 1 accident or damage reported', 'None reported',\n",
       "       'vehicle_age', 'milage_per_year', 'color_combination',\n",
       "       'brand_model_count', 'age_engine_interaction'],\n",
       "      dtype='object')"
      ]
     },
     "execution_count": 64,
     "metadata": {},
     "output_type": "execute_result"
    }
   ],
   "source": [
    "test.columns"
   ]
  },
  {
   "cell_type": "code",
   "execution_count": 65,
   "id": "bc424eb7-84d8-483d-b58e-1ce2eedfeb9a",
   "metadata": {},
   "outputs": [],
   "source": [
    "# Features and target variable\n",
    "X = train.drop(columns=['price'])\n",
    "y = train['price']\n",
    "\n",
    "from sklearn.impute import SimpleImputer\n",
    "# Handle missing values\n",
    "imputer = SimpleImputer(strategy='mean')  # You can use other strategies like 'median' or 'most_frequent'\n",
    "X_imputed = imputer.fit_transform(X)\n",
    "#X_test_imputed = imputer.transform(test)\n",
    "\n",
    "# Convert imputed arrays back to DataFrame\n",
    "X = pd.DataFrame(X_imputed, columns=X.columns)\n",
    "#X_test = pd.DataFrame(X_test_imputed, columns=test.columns)"
   ]
  },
  {
   "cell_type": "code",
   "execution_count": 66,
   "id": "60bdacc8-47c7-45ae-bd6a-01ac6793550e",
   "metadata": {},
   "outputs": [],
   "source": [
    "# Train/test split for validation\n",
    "X_train, X_val, y_train, y_val = train_test_split(X, y, test_size=0.2, random_state=0)"
   ]
  },
  {
   "cell_type": "code",
   "execution_count": 67,
   "id": "525d95ff-7891-4d15-bb14-876318c0fce6",
   "metadata": {},
   "outputs": [],
   "source": [
    "scaler= StandardScaler()\n",
    "X_train_scaled= scaler.fit_transform(X_train)\n",
    "X_val = scaler.transform(X_val)"
   ]
  },
  {
   "cell_type": "markdown",
   "id": "b84a9ae4-364d-4843-aebe-20291f0a9734",
   "metadata": {},
   "source": [
    "## Model Training and Evaluation"
   ]
  },
  {
   "cell_type": "code",
   "execution_count": 68,
   "id": "ceb336f2-51e7-498a-9bf7-3707c0d07030",
   "metadata": {},
   "outputs": [],
   "source": [
    "from sklearn.metrics import mean_squared_error\n",
    "\n",
    "def evaluate_model(model, x, y_true):\n",
    "    \"\"\"\n",
    "    Utility function to print the model performance.\n",
    "    model: Fitted model\n",
    "    x: Validation features dataset\n",
    "    y_true: Validation target values\n",
    "    \"\"\"\n",
    "    predicted = model.predict(x)\n",
    "    rmse = mean_squared_error(y_true, predicted, squared=False)\n",
    "    print('RMSE: {:.2f}'.format(rmse))\n",
    "    print()\n"
   ]
  },
  {
   "cell_type": "code",
   "execution_count": 69,
   "id": "8179c74a-3d65-4d39-abdc-b736182d7c31",
   "metadata": {},
   "outputs": [
    {
     "name": "stdout",
     "output_type": "stream",
     "text": [
      "Performance of \"Random Forest\" on Validation set:\n",
      "========================================================\n",
      "RMSE: 65387.12\n",
      "\n",
      "Performance of \"XGBoost\" on Validation set:\n",
      "========================================================\n",
      "RMSE: 66599.97\n",
      "\n",
      "Performance of \"Gradient Boost\" on Validation set:\n",
      "========================================================\n",
      "RMSE: 61784.45\n",
      "\n"
     ]
    }
   ],
   "source": [
    "from sklearn.ensemble import GradientBoostingRegressor\n",
    "models_dict = {\n",
    "    'Random Forest': RandomForestRegressor(random_state=0),\n",
    "    'XGBoost': XGBRegressor(),\n",
    "    'Gradient Boost': GradientBoostingRegressor(random_state=0)\n",
    "}\n",
    "\n",
    "for name, model in models_dict.items():\n",
    "    model.fit(X_train_scaled, y_train)\n",
    "    print(f'Performance of \"{name}\" on Validation set:')\n",
    "    print('==' * 28)\n",
    "    evaluate_model(model, X_val, y_val)\n"
   ]
  },
  {
   "cell_type": "markdown",
   "id": "79099ed6-93b0-4532-b44b-69b80bdfa492",
   "metadata": {},
   "source": [
    "- Gradient Boosting Regressor is the best Model, Hence we will continue to optimize the best model."
   ]
  },
  {
   "cell_type": "code",
   "execution_count": 70,
   "id": "719c9188-d9e6-41f0-a3c3-bd8f62a5373b",
   "metadata": {},
   "outputs": [
    {
     "data": {
      "text/plain": [
       "Index(['brand', 'model', 'model_year', 'milage', 'fuel_type', 'engine',\n",
       "       'transmission', 'ext_col', 'int_col', 'clean_title',\n",
       "       'At least 1 accident or damage reported', 'None reported',\n",
       "       'vehicle_age', 'milage_per_year', 'color_combination',\n",
       "       'brand_model_count', 'age_engine_interaction'],\n",
       "      dtype='object')"
      ]
     },
     "execution_count": 70,
     "metadata": {},
     "output_type": "execute_result"
    }
   ],
   "source": [
    "X.columns"
   ]
  },
  {
   "cell_type": "code",
   "execution_count": 71,
   "id": "7d213b43-11dc-4625-8e5a-4790ae7fd908",
   "metadata": {},
   "outputs": [
    {
     "data": {
      "text/plain": [
       "Index(['brand', 'model', 'model_year', 'milage', 'fuel_type', 'engine',\n",
       "       'transmission', 'ext_col', 'int_col', 'clean_title',\n",
       "       'At least 1 accident or damage reported', 'None reported',\n",
       "       'vehicle_age', 'milage_per_year', 'color_combination',\n",
       "       'brand_model_count', 'age_engine_interaction'],\n",
       "      dtype='object')"
      ]
     },
     "execution_count": 71,
     "metadata": {},
     "output_type": "execute_result"
    }
   ],
   "source": [
    "test=test.drop(columns=['price'],axis=1)\n",
    "test.columns"
   ]
  },
  {
   "cell_type": "code",
   "execution_count": 72,
   "id": "67418f20-d28a-429f-a1a1-f8463637e356",
   "metadata": {},
   "outputs": [],
   "source": [
    "assert set(X.columns) == set(test.columns)"
   ]
  },
  {
   "cell_type": "code",
   "execution_count": 73,
   "id": "edbb9f9c-7fb5-4f9d-a1de-aff5023e65a8",
   "metadata": {},
   "outputs": [],
   "source": [
    "X_test_imputed = imputer.transform(test)"
   ]
  },
  {
   "cell_type": "code",
   "execution_count": 74,
   "id": "f22c63f7-ea6a-4aa7-bc4d-4b6ec4fe90e4",
   "metadata": {},
   "outputs": [],
   "source": [
    "X_test= pd.DataFrame(X_test_imputed, columns=test.columns)"
   ]
  },
  {
   "cell_type": "code",
   "execution_count": 75,
   "id": "9b9df426-3b26-4d3c-b89a-f0bbb62e2f31",
   "metadata": {},
   "outputs": [],
   "source": [
    "# Assuming 'XGBoost' was the best model based on RMSE\n",
    "best_model = models_dict['Gradient Boost']\n",
    "best_model.fit(X, y)  # Train on entire dataset\n",
    "\n",
    "# Predict on test data\n",
    "test_predictions = best_model.predict(X_test) "
   ]
  },
  {
   "cell_type": "code",
   "execution_count": 76,
   "id": "cea54627-7626-4feb-9076-316423041c2b",
   "metadata": {},
   "outputs": [
    {
     "name": "stdout",
     "output_type": "stream",
     "text": [
      "      id         price\n",
      "0  54273  24025.928978\n",
      "1  54274  18814.908619\n",
      "2  54275  27827.463144\n",
      "3  54276  64328.510270\n",
      "4  54277  37222.013857\n"
     ]
    }
   ],
   "source": [
    "# Prepare submission file\n",
    "submission['price'] = test_predictions\n",
    "submission.to_csv('submission.csv', index=False)\n",
    "print(submission.head())"
   ]
  },
  {
   "cell_type": "code",
   "execution_count": 77,
   "id": "5eec84e8-3af6-462c-adb4-4497a0363ad4",
   "metadata": {},
   "outputs": [],
   "source": [
    "#pip install optuna "
   ]
  },
  {
   "cell_type": "code",
   "execution_count": 79,
   "id": "742b898d-6837-43f5-b6c3-94a38eb1f1c9",
   "metadata": {},
   "outputs": [],
   "source": [
    "import optuna\n",
    "\n",
    "# Define the objective function for Optuna\n",
    "def objective(trial):\n",
    "    # Hyperparameters to optimize\n",
    "    params = {\n",
    "    'n_estimators': trial.suggest_int('n_estimators', 100, 1000),\n",
    "    'learning_rate': trial.suggest_loguniform('learning_rate', 0.01, 0.3),\n",
    "    'max_depth': trial.suggest_int('max_depth', 3, 10),\n",
    "    'min_samples_split': trial.suggest_int('min_samples_split', 2, 20),\n",
    "    'min_samples_leaf': trial.suggest_int('min_samples_leaf', 1, 20),\n",
    "    'subsample': trial.suggest_uniform('subsample', 0.5, 1.0),\n",
    "    'max_features': trial.suggest_categorical('max_features', ['sqrt', 'log2'])\n",
    "}\n",
    "    \n",
    "    model = GradientBoostingRegressor(**params, random_state=42)\n",
    "    model.fit(X_train_scaled, y_train)\n",
    "    \n",
    "    y_pred = model.predict(X_val)\n",
    "    rmse = mean_squared_error(y_val, y_pred, squared=False)\n",
    "    \n",
    "    \n",
    "    return rmse\n"
   ]
  },
  {
   "cell_type": "code",
   "execution_count": 80,
   "id": "4e671fac-8b89-4795-94c0-03bb5ed1846e",
   "metadata": {},
   "outputs": [
    {
     "name": "stderr",
     "output_type": "stream",
     "text": [
      "[I 2024-06-15 21:27:12,066] A new study created in memory with name: no-name-5a15cb89-f324-43b1-a78d-500f79269717\n",
      "[I 2024-06-15 21:27:22,425] Trial 0 finished with value: 60093.86065016734 and parameters: {'n_estimators': 413, 'learning_rate': 0.016428631696140665, 'max_depth': 4, 'min_samples_split': 16, 'min_samples_leaf': 7, 'subsample': 0.5026436566386048, 'max_features': 'log2'}. Best is trial 0 with value: 60093.86065016734.\n",
      "[I 2024-06-15 21:27:41,264] Trial 1 finished with value: 60346.00943793766 and parameters: {'n_estimators': 566, 'learning_rate': 0.011387475084310348, 'max_depth': 5, 'min_samples_split': 7, 'min_samples_leaf': 6, 'subsample': 0.5507697250271859, 'max_features': 'log2'}. Best is trial 0 with value: 60093.86065016734.\n",
      "[I 2024-06-15 21:27:59,665] Trial 2 finished with value: 60975.03472988527 and parameters: {'n_estimators': 479, 'learning_rate': 0.03664888093221901, 'max_depth': 4, 'min_samples_split': 12, 'min_samples_leaf': 6, 'subsample': 0.9542416959009152, 'max_features': 'log2'}. Best is trial 0 with value: 60093.86065016734.\n",
      "[I 2024-06-15 21:28:20,168] Trial 3 finished with value: 60579.86857433437 and parameters: {'n_estimators': 144, 'learning_rate': 0.011941977142947077, 'max_depth': 9, 'min_samples_split': 2, 'min_samples_leaf': 3, 'subsample': 0.8405082617775737, 'max_features': 'sqrt'}. Best is trial 0 with value: 60093.86065016734.\n",
      "[I 2024-06-15 21:29:14,370] Trial 4 finished with value: 62653.0882968234 and parameters: {'n_estimators': 961, 'learning_rate': 0.03672036655313768, 'max_depth': 6, 'min_samples_split': 19, 'min_samples_leaf': 13, 'subsample': 0.7592981954802716, 'max_features': 'log2'}. Best is trial 0 with value: 60093.86065016734.\n",
      "[I 2024-06-15 21:30:04,416] Trial 5 finished with value: 71503.35284093936 and parameters: {'n_estimators': 731, 'learning_rate': 0.22002997472710895, 'max_depth': 8, 'min_samples_split': 20, 'min_samples_leaf': 8, 'subsample': 0.5856060394591023, 'max_features': 'sqrt'}. Best is trial 0 with value: 60093.86065016734.\n",
      "[I 2024-06-15 21:30:10,092] Trial 6 finished with value: 59787.917675503326 and parameters: {'n_estimators': 119, 'learning_rate': 0.051669155790271724, 'max_depth': 4, 'min_samples_split': 10, 'min_samples_leaf': 20, 'subsample': 0.7718878144451546, 'max_features': 'log2'}. Best is trial 6 with value: 59787.917675503326.\n",
      "[I 2024-06-15 21:30:29,230] Trial 7 finished with value: 60244.05670629685 and parameters: {'n_estimators': 437, 'learning_rate': 0.018238487980264253, 'max_depth': 5, 'min_samples_split': 2, 'min_samples_leaf': 13, 'subsample': 0.8881020892393896, 'max_features': 'sqrt'}. Best is trial 6 with value: 59787.917675503326.\n",
      "[I 2024-06-15 21:30:34,025] Trial 8 finished with value: 60730.19123593089 and parameters: {'n_estimators': 127, 'learning_rate': 0.06634705002398249, 'max_depth': 7, 'min_samples_split': 16, 'min_samples_leaf': 10, 'subsample': 0.5214955612300429, 'max_features': 'sqrt'}. Best is trial 6 with value: 59787.917675503326.\n",
      "[I 2024-06-15 21:30:54,639] Trial 9 finished with value: 65662.34784384462 and parameters: {'n_estimators': 654, 'learning_rate': 0.13792300669971913, 'max_depth': 4, 'min_samples_split': 7, 'min_samples_leaf': 5, 'subsample': 0.9962669532838173, 'max_features': 'log2'}. Best is trial 6 with value: 59787.917675503326.\n",
      "[I 2024-06-15 21:31:00,442] Trial 10 finished with value: 60443.69407288259 and parameters: {'n_estimators': 297, 'learning_rate': 0.08426145305275816, 'max_depth': 3, 'min_samples_split': 10, 'min_samples_leaf': 20, 'subsample': 0.6975704880719008, 'max_features': 'log2'}. Best is trial 6 with value: 59787.917675503326.\n",
      "[I 2024-06-15 21:31:06,561] Trial 11 finished with value: 59634.28832447734 and parameters: {'n_estimators': 315, 'learning_rate': 0.025232755549442834, 'max_depth': 3, 'min_samples_split': 14, 'min_samples_leaf': 20, 'subsample': 0.6673805314775014, 'max_features': 'log2'}. Best is trial 11 with value: 59634.28832447734.\n",
      "[I 2024-06-15 21:31:11,667] Trial 12 finished with value: 59803.4502892124 and parameters: {'n_estimators': 259, 'learning_rate': 0.03860946966631361, 'max_depth': 3, 'min_samples_split': 13, 'min_samples_leaf': 20, 'subsample': 0.6770580777414386, 'max_features': 'log2'}. Best is trial 11 with value: 59634.28832447734.\n",
      "[I 2024-06-15 21:31:30,457] Trial 13 finished with value: 60120.145432177735 and parameters: {'n_estimators': 276, 'learning_rate': 0.021020956821584214, 'max_depth': 10, 'min_samples_split': 9, 'min_samples_leaf': 18, 'subsample': 0.7837433901551601, 'max_features': 'log2'}. Best is trial 11 with value: 59634.28832447734.\n",
      "[I 2024-06-15 21:31:35,057] Trial 14 finished with value: 59717.79122713612 and parameters: {'n_estimators': 209, 'learning_rate': 0.02863433445977599, 'max_depth': 3, 'min_samples_split': 15, 'min_samples_leaf': 16, 'subsample': 0.6534811053829671, 'max_features': 'log2'}. Best is trial 11 with value: 59634.28832447734.\n",
      "[I 2024-06-15 21:31:41,975] Trial 15 finished with value: 59764.04961566057 and parameters: {'n_estimators': 335, 'learning_rate': 0.02809692274524834, 'max_depth': 3, 'min_samples_split': 14, 'min_samples_leaf': 16, 'subsample': 0.6319278744715308, 'max_features': 'log2'}. Best is trial 11 with value: 59634.28832447734.\n",
      "[I 2024-06-15 21:31:52,838] Trial 16 finished with value: 62081.48397865774 and parameters: {'n_estimators': 217, 'learning_rate': 0.10214436339635766, 'max_depth': 6, 'min_samples_split': 17, 'min_samples_leaf': 16, 'subsample': 0.6301125798318977, 'max_features': 'log2'}. Best is trial 11 with value: 59634.28832447734.\n",
      "[I 2024-06-15 21:32:05,880] Trial 17 finished with value: 60200.673231227374 and parameters: {'n_estimators': 381, 'learning_rate': 0.02392739204346354, 'max_depth': 5, 'min_samples_split': 14, 'min_samples_leaf': 15, 'subsample': 0.6542930325387797, 'max_features': 'log2'}. Best is trial 11 with value: 59634.28832447734.\n",
      "[I 2024-06-15 21:32:28,330] Trial 18 finished with value: 62161.72058672433 and parameters: {'n_estimators': 550, 'learning_rate': 0.04698241142232069, 'max_depth': 7, 'min_samples_split': 18, 'min_samples_leaf': 18, 'subsample': 0.7000529213533889, 'max_features': 'sqrt'}. Best is trial 11 with value: 59634.28832447734.\n",
      "[I 2024-06-15 21:32:46,800] Trial 19 finished with value: 60294.269616940874 and parameters: {'n_estimators': 843, 'learning_rate': 0.02792821720846375, 'max_depth': 3, 'min_samples_split': 15, 'min_samples_leaf': 13, 'subsample': 0.5798984314625142, 'max_features': 'log2'}. Best is trial 11 with value: 59634.28832447734.\n",
      "[I 2024-06-15 21:32:56,702] Trial 20 finished with value: 59777.05900170124 and parameters: {'n_estimators': 235, 'learning_rate': 0.015348573757328596, 'max_depth': 5, 'min_samples_split': 12, 'min_samples_leaf': 18, 'subsample': 0.8245479081402247, 'max_features': 'log2'}. Best is trial 11 with value: 59634.28832447734.\n",
      "[I 2024-06-15 21:33:05,491] Trial 21 finished with value: 59767.84313844096 and parameters: {'n_estimators': 305, 'learning_rate': 0.02901033671934279, 'max_depth': 3, 'min_samples_split': 15, 'min_samples_leaf': 16, 'subsample': 0.6216808581147475, 'max_features': 'log2'}. Best is trial 11 with value: 59634.28832447734.\n",
      "[I 2024-06-15 21:33:23,923] Trial 22 finished with value: 59805.827460078406 and parameters: {'n_estimators': 379, 'learning_rate': 0.029292213569307154, 'max_depth': 3, 'min_samples_split': 14, 'min_samples_leaf': 15, 'subsample': 0.7169350870599942, 'max_features': 'log2'}. Best is trial 11 with value: 59634.28832447734.\n",
      "[I 2024-06-15 21:33:32,859] Trial 23 finished with value: 60478.54800061323 and parameters: {'n_estimators': 183, 'learning_rate': 0.061015825286093915, 'max_depth': 4, 'min_samples_split': 12, 'min_samples_leaf': 10, 'subsample': 0.6299239611183525, 'max_features': 'log2'}. Best is trial 11 with value: 59634.28832447734.\n",
      "[I 2024-06-15 21:33:48,644] Trial 24 finished with value: 59643.36780329671 and parameters: {'n_estimators': 334, 'learning_rate': 0.023206960238878204, 'max_depth': 3, 'min_samples_split': 17, 'min_samples_leaf': 17, 'subsample': 0.7324731013487706, 'max_features': 'log2'}. Best is trial 11 with value: 59634.28832447734.\n",
      "[I 2024-06-15 21:34:13,661] Trial 25 finished with value: 59764.31577583326 and parameters: {'n_estimators': 503, 'learning_rate': 0.014423603131939166, 'max_depth': 4, 'min_samples_split': 18, 'min_samples_leaf': 18, 'subsample': 0.7170545855457875, 'max_features': 'log2'}. Best is trial 11 with value: 59634.28832447734.\n",
      "[I 2024-06-15 21:34:22,586] Trial 26 finished with value: 59759.713081814945 and parameters: {'n_estimators': 192, 'learning_rate': 0.021323490861474368, 'max_depth': 3, 'min_samples_split': 20, 'min_samples_leaf': 12, 'subsample': 0.8063691191193989, 'max_features': 'sqrt'}. Best is trial 11 with value: 59634.28832447734.\n",
      "[I 2024-06-15 21:34:38,748] Trial 27 finished with value: 59742.662020884345 and parameters: {'n_estimators': 329, 'learning_rate': 0.010288070006167048, 'max_depth': 6, 'min_samples_split': 17, 'min_samples_leaf': 19, 'subsample': 0.7463995105374033, 'max_features': 'log2'}. Best is trial 11 with value: 59634.28832447734.\n",
      "[I 2024-06-15 21:35:03,583] Trial 28 finished with value: 64431.790629036645 and parameters: {'n_estimators': 612, 'learning_rate': 0.03819748815617019, 'max_depth': 5, 'min_samples_split': 16, 'min_samples_leaf': 1, 'subsample': 0.8583951688298948, 'max_features': 'log2'}. Best is trial 11 with value: 59634.28832447734.\n",
      "[I 2024-06-15 21:35:24,727] Trial 29 finished with value: 59802.06747940304 and parameters: {'n_estimators': 433, 'learning_rate': 0.017508222840242702, 'max_depth': 4, 'min_samples_split': 18, 'min_samples_leaf': 17, 'subsample': 0.6671570850770732, 'max_features': 'log2'}. Best is trial 11 with value: 59634.28832447734.\n",
      "[I 2024-06-15 21:35:43,519] Trial 30 finished with value: 59753.438136924466 and parameters: {'n_estimators': 380, 'learning_rate': 0.01337043385460942, 'max_depth': 4, 'min_samples_split': 15, 'min_samples_leaf': 14, 'subsample': 0.5910082509916146, 'max_features': 'log2'}. Best is trial 11 with value: 59634.28832447734.\n",
      "[I 2024-06-15 21:36:17,351] Trial 31 finished with value: 59714.43386096419 and parameters: {'n_estimators': 317, 'learning_rate': 0.010519374129533124, 'max_depth': 8, 'min_samples_split': 17, 'min_samples_leaf': 19, 'subsample': 0.7443925693318789, 'max_features': 'log2'}. Best is trial 11 with value: 59634.28832447734.\n",
      "[I 2024-06-15 21:36:31,828] Trial 32 finished with value: 59747.170250964875 and parameters: {'n_estimators': 196, 'learning_rate': 0.019718843385819862, 'max_depth': 8, 'min_samples_split': 17, 'min_samples_leaf': 19, 'subsample': 0.758210925665261, 'max_features': 'log2'}. Best is trial 11 with value: 59634.28832447734.\n",
      "[I 2024-06-15 21:37:01,152] Trial 33 finished with value: 60362.42437506823 and parameters: {'n_estimators': 476, 'learning_rate': 0.01552594704928583, 'max_depth': 8, 'min_samples_split': 16, 'min_samples_leaf': 17, 'subsample': 0.7265983499366895, 'max_features': 'log2'}. Best is trial 11 with value: 59634.28832447734.\n",
      "[I 2024-06-15 21:37:26,424] Trial 34 finished with value: 59570.84541524421 and parameters: {'n_estimators': 252, 'learning_rate': 0.01176346417376523, 'max_depth': 9, 'min_samples_split': 13, 'min_samples_leaf': 19, 'subsample': 0.6774864520808543, 'max_features': 'log2'}. Best is trial 34 with value: 59570.84541524421.\n",
      "[I 2024-06-15 21:38:00,914] Trial 35 finished with value: 59640.533365878146 and parameters: {'n_estimators': 345, 'learning_rate': 0.010151161022689714, 'max_depth': 9, 'min_samples_split': 13, 'min_samples_leaf': 19, 'subsample': 0.6888018610403103, 'max_features': 'log2'}. Best is trial 34 with value: 59570.84541524421.\n",
      "[I 2024-06-15 21:38:27,463] Trial 36 finished with value: 59777.948394824525 and parameters: {'n_estimators': 375, 'learning_rate': 0.012930938962558786, 'max_depth': 10, 'min_samples_split': 11, 'min_samples_leaf': 20, 'subsample': 0.6882954148075555, 'max_features': 'log2'}. Best is trial 34 with value: 59570.84541524421.\n",
      "[I 2024-06-15 21:38:57,483] Trial 37 finished with value: 59877.139482029386 and parameters: {'n_estimators': 539, 'learning_rate': 0.011651862705507715, 'max_depth': 9, 'min_samples_split': 13, 'min_samples_leaf': 17, 'subsample': 0.5403831518926092, 'max_features': 'sqrt'}. Best is trial 34 with value: 59570.84541524421.\n",
      "[I 2024-06-15 21:39:08,316] Trial 38 finished with value: 59607.412592081375 and parameters: {'n_estimators': 102, 'learning_rate': 0.023494532869255538, 'max_depth': 9, 'min_samples_split': 13, 'min_samples_leaf': 19, 'subsample': 0.6009538052828518, 'max_features': 'log2'}. Best is trial 34 with value: 59570.84541524421.\n",
      "[I 2024-06-15 21:39:14,575] Trial 39 finished with value: 65728.82715887653 and parameters: {'n_estimators': 111, 'learning_rate': 0.296027783979474, 'max_depth': 9, 'min_samples_split': 8, 'min_samples_leaf': 19, 'subsample': 0.5027810525597074, 'max_features': 'sqrt'}. Best is trial 34 with value: 59570.84541524421.\n",
      "[I 2024-06-15 21:39:22,493] Trial 40 finished with value: 60100.20963321136 and parameters: {'n_estimators': 155, 'learning_rate': 0.017459409851168138, 'max_depth': 9, 'min_samples_split': 6, 'min_samples_leaf': 8, 'subsample': 0.5962000870067957, 'max_features': 'log2'}. Best is trial 34 with value: 59570.84541524421.\n",
      "[I 2024-06-15 21:39:36,171] Trial 41 finished with value: 59949.326633199424 and parameters: {'n_estimators': 256, 'learning_rate': 0.023635031772200995, 'max_depth': 10, 'min_samples_split': 11, 'min_samples_leaf': 20, 'subsample': 0.5699442052949529, 'max_features': 'log2'}. Best is trial 34 with value: 59570.84541524421.\n",
      "[I 2024-06-15 21:39:41,445] Trial 42 finished with value: 59958.84124056336 and parameters: {'n_estimators': 101, 'learning_rate': 0.011989203017258062, 'max_depth': 9, 'min_samples_split': 13, 'min_samples_leaf': 19, 'subsample': 0.6112785758830293, 'max_features': 'log2'}. Best is trial 34 with value: 59570.84541524421.\n",
      "[I 2024-06-15 21:39:48,771] Trial 43 finished with value: 59889.58216399118 and parameters: {'n_estimators': 153, 'learning_rate': 0.010097479783954179, 'max_depth': 7, 'min_samples_split': 10, 'min_samples_leaf': 17, 'subsample': 0.6612013963460939, 'max_features': 'log2'}. Best is trial 34 with value: 59570.84541524421.\n",
      "[I 2024-06-15 21:40:19,011] Trial 44 finished with value: 61889.31217460398 and parameters: {'n_estimators': 454, 'learning_rate': 0.04428120173757192, 'max_depth': 8, 'min_samples_split': 13, 'min_samples_leaf': 18, 'subsample': 0.7786849532507, 'max_features': 'log2'}. Best is trial 34 with value: 59570.84541524421.\n",
      "[I 2024-06-15 21:40:39,757] Trial 45 finished with value: 60912.96333762028 and parameters: {'n_estimators': 347, 'learning_rate': 0.0346553866398941, 'max_depth': 10, 'min_samples_split': 12, 'min_samples_leaf': 20, 'subsample': 0.5537195216046489, 'max_features': 'log2'}. Best is trial 34 with value: 59570.84541524421.\n",
      "[I 2024-06-15 21:41:00,781] Trial 46 finished with value: 60406.045562838735 and parameters: {'n_estimators': 276, 'learning_rate': 0.023779406280770358, 'max_depth': 9, 'min_samples_split': 14, 'min_samples_leaf': 15, 'subsample': 0.6861876060314054, 'max_features': 'log2'}. Best is trial 34 with value: 59570.84541524421.\n",
      "[I 2024-06-15 21:41:31,765] Trial 47 finished with value: 60769.69028874293 and parameters: {'n_estimators': 409, 'learning_rate': 0.03331194630531401, 'max_depth': 7, 'min_samples_split': 12, 'min_samples_leaf': 20, 'subsample': 0.72943472413485, 'max_features': 'sqrt'}. Best is trial 34 with value: 59570.84541524421.\n",
      "[I 2024-06-15 21:42:40,456] Trial 48 finished with value: 60983.66345518637 and parameters: {'n_estimators': 732, 'learning_rate': 0.014018911637165012, 'max_depth': 10, 'min_samples_split': 4, 'min_samples_leaf': 18, 'subsample': 0.9244695226376906, 'max_features': 'log2'}. Best is trial 34 with value: 59570.84541524421.\n",
      "[I 2024-06-15 21:42:52,289] Trial 49 finished with value: 60315.957696020676 and parameters: {'n_estimators': 241, 'learning_rate': 0.0195388919844851, 'max_depth': 8, 'min_samples_split': 9, 'min_samples_leaf': 11, 'subsample': 0.6413354062540282, 'max_features': 'log2'}. Best is trial 34 with value: 59570.84541524421.\n"
     ]
    },
    {
     "name": "stdout",
     "output_type": "stream",
     "text": [
      "Best hyperparameters: {'n_estimators': 252, 'learning_rate': 0.01176346417376523, 'max_depth': 9, 'min_samples_split': 13, 'min_samples_leaf': 19, 'subsample': 0.6774864520808543, 'max_features': 'log2'}\n",
      "MSE: 59570.8454\n"
     ]
    },
    {
     "data": {
      "image/png": "[encoded data removed]",
      "text/plain": [
       "<Figure size 1000x600 with 1 Axes>"
      ]
     },
     "metadata": {},
     "output_type": "display_data"
    },
    {
     "data": {
      "image/png": "[encoded data removed]",
      "text/plain": [
       "<Figure size 1000x600 with 1 Axes>"
      ]
     },
     "metadata": {},
     "output_type": "display_data"
    }
   ],
   "source": [
    "\n",
    "# Create study and optimize\n",
    "study = optuna.create_study(direction='minimize')\n",
    "study.optimize(objective, n_trials=50)\n",
    "\n",
    "# Get the best parameters\n",
    "best_params = study.best_params\n",
    "print(\"Best hyperparameters:\", best_params)\n",
    "\n",
    "# Train the model with the best hyperparameters\n",
    "best_model = GradientBoostingRegressor(**best_params, random_state=42)\n",
    "best_model.fit(X_train_scaled, y_train)\n",
    "\n",
    "# Evaluate the model\n",
    "y_pred = best_model.predict(X_val)\n",
    "rmse = mean_squared_error(y_val, y_pred, squared=False)\n",
    "\n",
    "\n",
    "print(f'MSE: {rmse:.4f}')\n",
    "\n",
    "\n",
    "# Plotting Predicted vs Actual\n",
    "plt.figure(figsize=(10, 6))\n",
    "plt.scatter(y_val, y_pred, alpha=0.5)\n",
    "plt.xlabel(\"Actual Values\")\n",
    "plt.ylabel(\"Predicted Values\")\n",
    "plt.title(\"Predicted vs Actual Values\")\n",
    "plt.show()\n",
    "\n",
    "# Plotting the Loss Curve\n",
    "plt.figure(figsize=(10, 6))\n",
    "plt.plot(study.trials_dataframe()['value'])\n",
    "plt.xlabel(\"Trial\")\n",
    "plt.ylabel(\"MSE\")\n",
    "plt.title(\"Optimization Loss Curve\")\n",
    "plt.show()\n"
   ]
  },
  {
   "cell_type": "markdown",
   "id": "a3447d05-f0ae-451c-b145-234b005952af",
   "metadata": {},
   "source": [
    "test.head()  "
   ]
  },
  {
   "cell_type": "code",
   "execution_count": 81,
   "id": "cffa9f1c-eaf2-43d5-bfec-22748bb7a565",
   "metadata": {},
   "outputs": [],
   "source": [
    "# Predict on test data\n",
    "test_predictions = best_model.predict(X_test) "
   ]
  },
  {
   "cell_type": "code",
   "execution_count": 82,
   "id": "838ae219-4733-435c-8ddd-2725849a1829",
   "metadata": {},
   "outputs": [
    {
     "name": "stdout",
     "output_type": "stream",
     "text": [
      "      id          price\n",
      "0  54273  118065.590682\n",
      "1  54274  118065.590682\n",
      "2  54275  118065.590682\n",
      "3  54276  118956.262432\n",
      "4  54277  118956.262432\n"
     ]
    }
   ],
   "source": [
    "# Prepare submission file\n",
    "submission['price'] = test_predictions\n",
    "submission.to_csv('submission_2.csv', index=False)\n",
    "print(submission.head())"
   ]
  },
  {
   "cell_type": "code",
   "execution_count": null,
   "id": "55f7ef38-fc7a-421c-bdd1-53867eb46d38",
   "metadata": {},
   "outputs": [],
   "source": []
  }
 ],
 "metadata": {
  "kernelspec": {
   "display_name": "Python 3 (ipykernel)",
   "language": "python",
   "name": "python3"
  },
  "language_info": {
   "codemirror_mode": {
    "name": "ipython",
    "version": 3
   },
   "file_extension": ".py",
   "mimetype": "text/x-python",
   "name": "python",
   "nbconvert_exporter": "python",
   "pygments_lexer": "ipython3",
   "version": "3.11.7"
  }
 },
 "nbformat": 4,
 "nbformat_minor": 5
}
